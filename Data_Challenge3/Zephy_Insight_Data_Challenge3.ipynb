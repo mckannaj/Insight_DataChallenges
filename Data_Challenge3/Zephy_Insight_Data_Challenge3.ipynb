{
 "cells": [
  {
   "cell_type": "markdown",
   "metadata": {},
   "source": [
    "## Data Challenge 3: Conversion Rate\n",
    "\n",
    "**This notebook is intended to **<br>\n",
    "NOTE: I added an \"index\" column in Excel, because the country didn't seem an appropriate index into the dataframe. <br><br>\n",
    "I first load the data from two given csv files, then <br><br>"
   ]
  },
  {
   "cell_type": "code",
   "execution_count": 20,
   "metadata": {
    "collapsed": true
   },
   "outputs": [],
   "source": [
    "# Import some packages we'll use\n",
    "import numpy as np\n",
    "import pandas as pd\n",
    "import matplotlib.pyplot as plt\n",
    "\n"
   ]
  },
  {
   "cell_type": "code",
   "execution_count": 13,
   "metadata": {
    "collapsed": true
   },
   "outputs": [],
   "source": [
    "# it's not a huge amount of data; I can simply import it all as two dataframes\n",
    "\n",
    "conv_table = pd.DataFrame.from_csv('/Users/z_home/zLearnPy/LeetCode_forGithub/Insight_DataChallenges/Data_Challenge3/conversion_data.csv')"
   ]
  },
  {
   "cell_type": "code",
   "execution_count": 14,
   "metadata": {},
   "outputs": [
    {
     "name": "stdout",
     "output_type": "stream",
     "text": [
      "      country  age  new_user  source  total_pages_visited  converted\n",
      "index                                                               \n",
      "101        US   20         0     Seo                    2          0\n",
      "102     China   18         1     Ads                    3          0\n",
      "103        US   50         1     Seo                    1          0\n",
      "104        US   20         1     Seo                    5          0\n",
      "105        US   33         1     Seo                    1          0\n",
      "106     China   33         1     Ads                    2          0\n",
      "107        US   22         0  Direct                    9          0\n",
      "108        UK   23         0     Seo                    4          0\n",
      "109        US   33         1  Direct                    3          0\n",
      "110        UK   34         1     Ads                    2          0\n",
      "111        US   29         0     Ads                    5          0\n",
      "112        US   19         1     Ads                    7          0\n",
      "113        US   37         0  Direct                    4          0\n",
      "114        US   30         1     Ads                   11          0\n",
      "115     China   33         0     Seo                    4          0\n"
     ]
    }
   ],
   "source": [
    "# test cell\n",
    "print(conv_table.iloc[100:115,:]) # just to confirm that it looks as expected\n"
   ]
  },
  {
   "cell_type": "code",
   "execution_count": 15,
   "metadata": {},
   "outputs": [
    {
     "name": "stdout",
     "output_type": "stream",
     "text": [
      "['Ads' 'Seo' 'Direct']\n"
     ]
    }
   ],
   "source": [
    "# Confirm nothing unexpected in our source data; should just be ads, seo, direct\n",
    "print(conv_table.source.unique())"
   ]
  },
  {
   "cell_type": "code",
   "execution_count": 16,
   "metadata": {},
   "outputs": [
    {
     "data": {
      "text/plain": [
       "country                0\n",
       "age                    0\n",
       "new_user               0\n",
       "source                 0\n",
       "total_pages_visited    0\n",
       "converted              0\n",
       "dtype: int64"
      ]
     },
     "execution_count": 16,
     "metadata": {},
     "output_type": "execute_result"
    }
   ],
   "source": [
    "# Let's check for any Null values also, as those can trip up models\n",
    "conv_table.isnull().sum()"
   ]
  },
  {
   "cell_type": "code",
   "execution_count": 17,
   "metadata": {},
   "outputs": [
    {
     "name": "stdout",
     "output_type": "stream",
     "text": [
      "['UK' 'US' 'China' 'Germany']\n"
     ]
    }
   ],
   "source": [
    "# How many countries are represented here?\n",
    "print(conv_table.country.unique())"
   ]
  },
  {
   "cell_type": "code",
   "execution_count": 28,
   "metadata": {},
   "outputs": [
    {
     "name": "stdout",
     "output_type": "stream",
     "text": [
      "total_pages_visited\n",
      "1     40739\n",
      "2     43868\n",
      "3     43829\n",
      "4     41046\n",
      "5     36308\n",
      "6     30261\n",
      "7     23488\n",
      "8     17522\n",
      "9     12157\n",
      "10     8074\n",
      "11     5394\n",
      "12     3615\n",
      "13     2425\n",
      "14     1811\n",
      "15     1325\n",
      "16     1100\n",
      "17      845\n",
      "18      722\n",
      "19      565\n",
      "20      405\n",
      "21      296\n",
      "22      180\n",
      "23      113\n",
      "24       46\n",
      "25       39\n",
      "26       17\n",
      "27        7\n",
      "28        1\n",
      "29        2\n",
      "Name: converted, dtype: int64\n"
     ]
    },
    {
     "data": {
      "image/png": "[encoded data removed]",
      "text/plain": [
       "<matplotlib.figure.Figure at 0x11817dfd0>"
      ]
     },
     "metadata": {},
     "output_type": "display_data"
    }
   ],
   "source": [
    "# How many total page visits?\n",
    "page_visits = conv_table.groupby('total_pages_visited').converted.count()\n",
    "\n",
    "#print (page_visits)\n",
    "page_visits.plot.bar().set_ylabel(\"count\")\n",
    "\n",
    "plt.show()"
   ]
  },
  {
   "cell_type": "code",
   "execution_count": 29,
   "metadata": {},
   "outputs": [
    {
     "name": "stdout",
     "output_type": "stream",
     "text": [
      "age\n",
      "17      7597\n",
      "18      8466\n",
      "19      9349\n",
      "20     10156\n",
      "21     10966\n",
      "22     11701\n",
      "23     12336\n",
      "24     12960\n",
      "25     13460\n",
      "26     13931\n",
      "27     14084\n",
      "28     14341\n",
      "29     14158\n",
      "30     14346\n",
      "31     13692\n",
      "32     13507\n",
      "33     12631\n",
      "34     12108\n",
      "35     11471\n",
      "36     10779\n",
      "37      9761\n",
      "38      8970\n",
      "39      8202\n",
      "40      7148\n",
      "41      6401\n",
      "42      5588\n",
      "43      4904\n",
      "44      4224\n",
      "45      3634\n",
      "46      2994\n",
      "47      2504\n",
      "48      2121\n",
      "49      1629\n",
      "50      1356\n",
      "51      1093\n",
      "52       935\n",
      "53       627\n",
      "54       520\n",
      "55       394\n",
      "56       286\n",
      "57       247\n",
      "58       165\n",
      "59       127\n",
      "60        94\n",
      "61        71\n",
      "62        59\n",
      "63        35\n",
      "64        27\n",
      "65        15\n",
      "66         9\n",
      "67         5\n",
      "68         5\n",
      "69         3\n",
      "70         2\n",
      "72         1\n",
      "73         1\n",
      "77         1\n",
      "79         1\n",
      "111        1\n",
      "123        1\n",
      "Name: converted, dtype: int64\n"
     ]
    },
    {
     "data": {
      "image/png": "[encoded data removed]",
      "text/plain": [
       "<matplotlib.figure.Figure at 0x11817d7f0>"
      ]
     },
     "metadata": {},
     "output_type": "display_data"
    }
   ],
   "source": [
    "# How many different ages?\n",
    "ages = conv_table.groupby('age').converted.count()\n",
    "\n",
    "print (ages)\n",
    "ages.plot.bar().set_ylabel(\"count\")\n",
    "\n",
    "plt.show()"
   ]
  },
  {
   "cell_type": "code",
   "execution_count": 30,
   "metadata": {
    "collapsed": true
   },
   "outputs": [],
   "source": [
    "# seems like we have a couple of unlikely ages - let's kill off anything over 100\n",
    "conv_noOutliers = conv_table[conv_table.age < 100]"
   ]
  },
  {
   "cell_type": "code",
   "execution_count": 37,
   "metadata": {},
   "outputs": [
    {
     "name": "stdout",
     "output_type": "stream",
     "text": [
      "converted  country\n",
      "0          China       76500\n",
      "           Germany     12240\n",
      "           UK          45900\n",
      "           US         171360\n",
      "1          China         102\n",
      "           Germany       816\n",
      "           UK           2550\n",
      "           US           6732\n",
      "dtype: int64\n"
     ]
    },
    {
     "data": {
      "image/png": "[encoded data removed]",
      "text/plain": [
       "<matplotlib.figure.Figure at 0x11a8749e8>"
      ]
     },
     "metadata": {},
     "output_type": "display_data"
    }
   ],
   "source": [
    "# Now let's see who converted, by country\n",
    "conversions = conv_noOutliers.groupby(['converted','country']).size()\n",
    "\n",
    "print (conversions)\n",
    "conversions.plot.bar().set_ylabel(\"count\")\n",
    "\n",
    "plt.show()"
   ]
  },
  {
   "cell_type": "code",
   "execution_count": 46,
   "metadata": {},
   "outputs": [
    {
     "name": "stdout",
     "output_type": "stream",
     "text": [
      "         converted\n",
      "country           \n",
      "China          102\n",
      "Germany        816\n",
      "UK            2550\n",
      "US            6732\n",
      "country\n",
      "China       76602\n",
      "Germany     13056\n",
      "UK          48450\n",
      "US         178092\n",
      "dtype: int64\n",
      "         converted\n",
      "country           \n",
      "China     0.001332\n",
      "Germany   0.062500\n",
      "UK        0.052632\n",
      "US        0.037801\n"
     ]
    },
    {
     "data": {
      "image/png": "[encoded data removed]",
      "text/plain": [
       "<matplotlib.figure.Figure at 0x118198080>"
      ]
     },
     "metadata": {},
     "output_type": "display_data"
    }
   ],
   "source": [
    "# Now let's see who converted, by country\n",
    "conversions_country = conv_noOutliers.groupby(['country']).agg({'converted':'sum'})\n",
    "all_country = conv_noOutliers.groupby(['country']).size()\n",
    "\n",
    "country_pcts = conversions_country.divide(all_country, axis='rows')\n",
    "\n",
    "print(conversions)\n",
    "print(all_country)\n",
    "print(country_pcts)\n",
    "\n",
    "country_pcts.plot.bar().set_ylabel(\"percent converted\")\n",
    "plt.show()"
   ]
  },
  {
   "cell_type": "code",
   "execution_count": 47,
   "metadata": {},
   "outputs": [
    {
     "name": "stdout",
     "output_type": "stream",
     "text": [
      "        converted\n",
      "source           \n",
      "Ads      0.034483\n",
      "Direct   0.028169\n",
      "Seo      0.032895\n"
     ]
    },
    {
     "data": {
      "image/png": "[encoded data removed]",
      "text/plain": [
       "<matplotlib.figure.Figure at 0x1167ffda0>"
      ]
     },
     "metadata": {},
     "output_type": "display_data"
    }
   ],
   "source": [
    "# Now let's see who converted, by source\n",
    "conversions_source = conv_noOutliers.groupby(['source']).agg({'converted':'sum'})\n",
    "all_source = conv_noOutliers.groupby(['source']).size()\n",
    "\n",
    "source_pcts = conversions_source.divide(all_source, axis='rows')\n",
    "\n",
    "print(source_pcts)\n",
    "\n",
    "source_pcts.plot.bar().set_ylabel(\"percent converted\")\n",
    "plt.show()"
   ]
  },
  {
   "cell_type": "code",
   "execution_count": 49,
   "metadata": {},
   "outputs": [
    {
     "name": "stdout",
     "output_type": "stream",
     "text": [
      "          converted\n",
      "new_user           \n",
      "0          0.072002\n",
      "1          0.014021\n"
     ]
    },
    {
     "data": {
      "image/png": "[encoded data removed]",
      "text/plain": [
       "<matplotlib.figure.Figure at 0x1169e8940>"
      ]
     },
     "metadata": {},
     "output_type": "display_data"
    }
   ],
   "source": [
    "# New users or repeat users?\n",
    "conversions_new_user = conv_noOutliers.groupby(['new_user']).agg({'converted':'sum'})\n",
    "all_new_user = conv_noOutliers.groupby(['new_user']).size()\n",
    "\n",
    "new_user_pcts = conversions_new_user.divide(all_new_user, axis='rows')\n",
    "\n",
    "print(new_user_pcts)\n",
    "\n",
    "new_user_pcts.plot.bar().set_ylabel(\"percent converted\")\n",
    "plt.show()"
   ]
  },
  {
   "cell_type": "code",
   "execution_count": 50,
   "metadata": {},
   "outputs": [
    {
     "name": "stdout",
     "output_type": "stream",
     "text": [
      "                     converted\n",
      "total_pages_visited           \n",
      "1                     0.000000\n",
      "2                     0.000228\n",
      "3                     0.000251\n",
      "4                     0.000780\n",
      "5                     0.001570\n",
      "6                     0.003437\n",
      "7                     0.006769\n",
      "8                     0.015238\n",
      "9                     0.033067\n",
      "10                    0.061184\n",
      "11                    0.123471\n",
      "12                    0.244537\n",
      "13                    0.400825\n",
      "14                    0.587521\n",
      "15                    0.740377\n",
      "16                    0.871818\n",
      "17                    0.923077\n",
      "18                    0.961219\n",
      "19                    0.989381\n",
      "20                    0.997531\n",
      "21                    1.000000\n",
      "22                    1.000000\n",
      "23                    1.000000\n",
      "24                    1.000000\n",
      "25                    1.000000\n",
      "26                    1.000000\n",
      "27                    1.000000\n",
      "28                    1.000000\n",
      "29                    1.000000\n"
     ]
    },
    {
     "data": {
      "image/png": "[encoded data removed]",
      "text/plain": [
       "<matplotlib.figure.Figure at 0x1169f1e10>"
      ]
     },
     "metadata": {},
     "output_type": "display_data"
    }
   ],
   "source": [
    "# Pages visited - more is better?\n",
    "conversions_pages = conv_noOutliers.groupby(['total_pages_visited']).agg({'converted':'sum'})\n",
    "all_pages = conv_noOutliers.groupby(['total_pages_visited']).size()\n",
    "\n",
    "pages_pcts = conversions_pages.divide(all_pages, axis='rows')\n",
    "\n",
    "print(pages_pcts)\n",
    "\n",
    "pages_pcts.plot.bar().set_ylabel(\"percent converted\")\n",
    "plt.show()"
   ]
  },
  {
   "cell_type": "code",
   "execution_count": 52,
   "metadata": {},
   "outputs": [
    {
     "name": "stdout",
     "output_type": "stream",
     "text": [
      "     converted\n",
      "age           \n",
      "17    0.071607\n",
      "18    0.066029\n",
      "19    0.058616\n",
      "20    0.057109\n",
      "21    0.053985\n",
      "22    0.053243\n",
      "23    0.047990\n",
      "24    0.045448\n",
      "25    0.038782\n",
      "26    0.039767\n",
      "27    0.033513\n",
      "28    0.032564\n",
      "29    0.033621\n",
      "30    0.028998\n",
      "31    0.027461\n",
      "32    0.024802\n",
      "33    0.023989\n",
      "34    0.021556\n",
      "35    0.018394\n",
      "36    0.019297\n",
      "37    0.018953\n",
      "38    0.014158\n",
      "39    0.017313\n",
      "40    0.014270\n",
      "41    0.012342\n",
      "42    0.013243\n",
      "43    0.011623\n",
      "44    0.009943\n",
      "45    0.012383\n",
      "46    0.011356\n",
      "47    0.007987\n",
      "48    0.009430\n",
      "49    0.007366\n",
      "50    0.005900\n",
      "51    0.006404\n",
      "52    0.005348\n",
      "53    0.003190\n",
      "54    0.001923\n",
      "55    0.007614\n",
      "56    0.000000\n",
      "57    0.000000\n",
      "58    0.012121\n",
      "59    0.000000\n",
      "60    0.021277\n",
      "61    0.014085\n",
      "62    0.000000\n",
      "63    0.000000\n",
      "64    0.000000\n",
      "65    0.000000\n",
      "66    0.000000\n",
      "67    0.000000\n",
      "68    0.000000\n",
      "69    0.000000\n",
      "70    0.000000\n",
      "72    0.000000\n",
      "73    0.000000\n",
      "77    0.000000\n",
      "79    0.000000\n"
     ]
    },
    {
     "data": {
      "image/png": "[encoded data removed]",
      "text/plain": [
       "<matplotlib.figure.Figure at 0x1169d3fd0>"
      ]
     },
     "metadata": {},
     "output_type": "display_data"
    }
   ],
   "source": [
    "# What ages are better?\n",
    "conversions_ages = conv_noOutliers.groupby(['age']).agg({'converted':'sum'})\n",
    "all_ages = conv_noOutliers.groupby(['age']).size()\n",
    "\n",
    "ages_pcts = conversions_ages.divide(all_ages, axis='rows')\n",
    "\n",
    "print(ages_pcts)\n",
    "\n",
    "ages_pcts.plot.bar().set_ylabel(\"percent converted\")\n",
    "plt.show()"
   ]
  },
  {
   "cell_type": "markdown",
   "metadata": {},
   "source": [
    "# Conclusions\n",
    "**There are several factors affecting conversion in this dataset, from our initial data exploration:**<br>\n",
    "1. Country - Germany and the UK convert the most; the US converts almost as well. China converts extremely rarely.\n",
    "2. Source doesn't seem to matter much, overall. If we dig into other factors, this may change.\n",
    "3. Users who have visited before are far more likely to convert.\n",
    "4. As far as total pages visited, more is better. Users who visited more than 20 pages were far more likely to convert.\n",
    "5. As far as age is concerned, younger is better (barring outliers). Younger users were more likely to convert."
   ]
  },
  {
   "cell_type": "code",
   "execution_count": null,
   "metadata": {
    "collapsed": true
   },
   "outputs": [],
   "source": []
  }
 ],
 "metadata": {
  "kernelspec": {
   "display_name": "Python 3",
   "language": "python",
   "name": "python3"
  },
  "language_info": {
   "codemirror_mode": {
    "name": "ipython",
    "version": 3
   },
   "file_extension": ".py",
   "mimetype": "text/x-python",
   "name": "python",
   "nbconvert_exporter": "python",
   "pygments_lexer": "ipython3",
   "version": "3.6.1"
  }
 },
 "nbformat": 4,
 "nbformat_minor": 2
}
