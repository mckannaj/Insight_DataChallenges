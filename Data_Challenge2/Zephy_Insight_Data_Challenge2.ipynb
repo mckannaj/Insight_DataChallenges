{
 "cells": [
  {
   "cell_type": "markdown",
   "metadata": {},
   "source": [
    "## Data Challenge 2: AB Testing\n",
    "\n",
    "**This notebook is intended to explore data from an AB test of pricing for Company XYZ.**<br>\n",
    "The company usually sells its software for \\$39, but has initiated a 90-day test in which a third of the participants are randomly selected to pay \\$59. The VP of marketing wants to know whether they should switch the price, how long they should've run the test, and any other relevant information that might help inform what the optimal price would be. <br><br>\n",
    "I first load the data from two given csv files, then clean the data according to stated parameters for a sanity check (e.g., price should be completely determinable based on whether the person was in the test or control group). I perform several data analyses and visualizations, and finally list conclusions about this test and suggestions about finding the optimal price.<br><br>"
   ]
  },
  {
   "cell_type": "markdown",
   "metadata": {},
   "source": [
    "### Step 1: Load the data"
   ]
  },
  {
   "cell_type": "code",
   "execution_count": 1,
   "metadata": {
    "collapsed": true
   },
   "outputs": [],
   "source": [
    "# First, import some modules that we'll be using later\n",
    "import pandas as pd\n",
    "import matplotlib.pyplot as plt\n",
    "import numpy as np\n",
    "import scipy.stats as stats\n",
    "from scipy.stats import chisquare\n",
    "from datetime import datetime\n",
    "from datetime import timedelta\n",
    "from matplotlib import mlab\n",
    "import math"
   ]
  },
  {
   "cell_type": "code",
   "execution_count": 2,
   "metadata": {
    "collapsed": true
   },
   "outputs": [],
   "source": [
    "# it's not a huge amount of data; I can simply import it all as two dataframes\n",
    "user_table = pd.DataFrame.from_csv('/Users/z_home/zLearnPy/LeetCode_forGithub/Insight_DataChallenges/Data_Challenge2/user_table.csv')\n",
    "test_results = pd.DataFrame.from_csv('/Users/z_home/zLearnPy/LeetCode_forGithub/Insight_DataChallenges/Data_Challenge2/test_results.csv')"
   ]
  },
  {
   "cell_type": "code",
   "execution_count": 3,
   "metadata": {},
   "outputs": [
    {
     "name": "stdout",
     "output_type": "stream",
     "text": [
      "                  city country    lat    long\n",
      "user_id                                      \n",
      "402771    North Bergen     USA  40.79  -74.03\n",
      "722510        New York     USA  40.67  -73.94\n",
      "830553        New York     USA  40.67  -73.94\n",
      "558879     San Antonio     USA  29.46  -98.51\n",
      "690980      Louisville     USA  38.22  -85.74\n",
      "696028      Louisville     USA  38.22  -85.74\n",
      "511675        New York     USA  40.67  -73.94\n",
      "77463       Janesville     USA  42.68  -89.02\n",
      "375184        New York     USA  40.67  -73.94\n",
      "584486          Conway     USA  35.09  -92.45\n",
      "521354          DeSoto     USA  32.60  -96.86\n",
      "61526    Pinellas Park     USA  27.86  -82.71\n",
      "254475       Milwaukee     USA  43.06  -87.97\n",
      "582660      Portsmouth     USA  36.86  -76.36\n",
      "965903     Chula Vista     USA  32.63 -117.04\n",
      "                   timestamp           source  device operative_system  test  \\\n",
      "user_id                                                                        \n",
      "538239   2015-03-28 08:21:13        ads-yahoo  mobile          android     1   \n",
      "979357   2015-03-24 09:44:57       ads-google  mobile              iOS     1   \n",
      "669204   2015-03-11 15:51:04     ads_facebook  mobile              iOS     1   \n",
      "867429   2015-05-21 17:43:19       ads-google     web          windows     1   \n",
      "549807   2015-04-24 11:60:20  friend_referral  mobile              iOS     0   \n",
      "80355    2015-04-25 15:32:15  friend_referral     web          windows     1   \n",
      "974935   2015-05-01 14:30:33        ads_other  mobile          android     0   \n",
      "130852   2015-05-17 10:40:41       seo-google  mobile              iOS     0   \n",
      "823870   2015-03-07 10:10:10     ads_facebook  mobile          android     0   \n",
      "427097   2015-04-22 12:46:13       ads-google  mobile              iOS     0   \n",
      "38833    2015-03-25 13:27:49       ads-google     web              mac     0   \n",
      "888077   2015-03-13 13:32:31   direct_traffic  mobile              iOS     0   \n",
      "620608   2015-03-13 11:09:44     ads_facebook  mobile              iOS     1   \n",
      "330244   2015-03-08 12:21:15       ads-google     web          windows     0   \n",
      "826716   2015-03-28 13:30:24     ads_facebook     web          windows     0   \n",
      "\n",
      "         price  converted  \n",
      "user_id                    \n",
      "538239      59          0  \n",
      "979357      59          0  \n",
      "669204      59          0  \n",
      "867429      59          0  \n",
      "549807      39          0  \n",
      "80355       59          0  \n",
      "974935      39          0  \n",
      "130852      39          1  \n",
      "823870      39          0  \n",
      "427097      39          0  \n",
      "38833       39          0  \n",
      "888077      39          0  \n",
      "620608      59          0  \n",
      "330244      39          0  \n",
      "826716      39          0  \n"
     ]
    }
   ],
   "source": [
    "# quick visualization to make sure we loaded what we think we did\n",
    "print(user_table.iloc[100:115,:]) # just to confirm that it looks as expected\n",
    "print(test_results.iloc[100:115,:]) "
   ]
  },
  {
   "cell_type": "markdown",
   "metadata": {},
   "source": [
    "### Step 2: Clean the data"
   ]
  },
  {
   "cell_type": "code",
   "execution_count": 4,
   "metadata": {},
   "outputs": [
    {
     "name": "stdout",
     "output_type": "stream",
     "text": [
      "test0_price59 = 210\n",
      "test1_price39 = 155\n"
     ]
    }
   ],
   "source": [
    "# First, sanity checks: we've been told some data should match.\n",
    "test0_price59 = test_results.loc[(test_results.price == 59) & (test_results.test == 0)]\n",
    "test1_price39 = test_results.loc[(test_results.price == 39) & (test_results.test == 1)]\n",
    "\n",
    "print('test0_price59 = %s' % len(test0_price59)) # Should be zero, but isn't\n",
    "print('test1_price39 = %s' % len(test1_price39)) # Should be zero, but isn't"
   ]
  },
  {
   "cell_type": "code",
   "execution_count": 5,
   "metadata": {
    "collapsed": true
   },
   "outputs": [],
   "source": [
    "# Exclude untrustworthy data (given it's just a quick analysis, no time to figure out which is correct)\n",
    "test_results = test_results.loc[((test_results.price == 59) & (test_results.test == 1)) | \n",
    "                               ((test_results.price == 39) & (test_results.test == 0))] # ~350 of these\n",
    "\n",
    "# There are also \"times\" that are nonsense (e.g., 60 in the minutes place); deal with these by just using the Date"
   ]
  },
  {
   "cell_type": "code",
   "execution_count": 6,
   "metadata": {},
   "outputs": [
    {
     "name": "stdout",
     "output_type": "stream",
     "text": [
      "2015-03-02 00:00:00\n",
      "2015-05-31 00:00:00\n"
     ]
    }
   ],
   "source": [
    "# In order to figure out how long the test should have gone on, we will need to know when people converted. \n",
    "#    Probably just using the date is ok, at least for a first pass - the times are screwy in this dataset\n",
    "test_results['date'] = pd.to_datetime(test_results['timestamp'].str[:10], format=\"%Y-%m-%d\") \n",
    "print(min(test_results.date))\n",
    "print(max(test_results.date))"
   ]
  },
  {
   "cell_type": "code",
   "execution_count": 7,
   "metadata": {},
   "outputs": [
    {
     "name": "stdout",
     "output_type": "stream",
     "text": [
      "                   timestamp           source  device operative_system  test  \\\n",
      "user_id                                                                        \n",
      "590182   2015-04-17 13:30:04       ads-google     web          windows     0   \n",
      "606479   2015-05-15 12:36:46   direct_traffic     web              mac     0   \n",
      "425567   2015-04-24 10:09:04     ads_facebook     web          windows     0   \n",
      "460593   2015-03-21 09:43:51  friend_referral  mobile              iOS     0   \n",
      "\n",
      "         price  converted       date  profit  \n",
      "user_id                                       \n",
      "590182      39          0 2015-04-17       0  \n",
      "606479      39          0 2015-05-15       0  \n",
      "425567      39          0 2015-04-24       0  \n",
      "460593      39          1 2015-03-21      39  \n"
     ]
    }
   ],
   "source": [
    "# It would also be useful to look at the profit made rather than just the conversion binary\n",
    "test_results['profit'] = test_results['price'] * test_results['converted']\n",
    "\n",
    "print (test_results[10:14]) # just to see"
   ]
  },
  {
   "cell_type": "markdown",
   "metadata": {},
   "source": [
    "### Step 3: initial data exploration"
   ]
  },
  {
   "cell_type": "code",
   "execution_count": 8,
   "metadata": {},
   "outputs": [
    {
     "name": "stdout",
     "output_type": "stream",
     "text": [
      "                  profit                                   \n",
      "operative_system android    iOS linux    mac  other windows\n",
      "test                                                       \n",
      "0                  48177  61793  2204  16345  10481   63517\n",
      "1                  26693  33560  1926   8710   5696   37333\n",
      "                  profit                                  \n",
      "operative_system android    iOS linux    mac other windows\n",
      "test                                                      \n",
      "0                  30693  56862  1326  16224  5733   46332\n",
      "1                  19470  39589     0  10915  3717   30857\n"
     ]
    },
    {
     "data": {
      "text/html": [
       "<div>\n",
       "<style>\n",
       "    .dataframe thead tr:only-child th {\n",
       "        text-align: right;\n",
       "    }\n",
       "\n",
       "    .dataframe thead th {\n",
       "        text-align: left;\n",
       "    }\n",
       "\n",
       "    .dataframe tbody tr th {\n",
       "        vertical-align: top;\n",
       "    }\n",
       "</style>\n",
       "<table border=\"1\" class=\"dataframe\">\n",
       "  <thead>\n",
       "    <tr>\n",
       "      <th></th>\n",
       "      <th colspan=\"6\" halign=\"left\">profit</th>\n",
       "    </tr>\n",
       "    <tr>\n",
       "      <th>operative_system</th>\n",
       "      <th>android</th>\n",
       "      <th>iOS</th>\n",
       "      <th>linux</th>\n",
       "      <th>mac</th>\n",
       "      <th>other</th>\n",
       "      <th>windows</th>\n",
       "    </tr>\n",
       "    <tr>\n",
       "      <th>test</th>\n",
       "      <th></th>\n",
       "      <th></th>\n",
       "      <th></th>\n",
       "      <th></th>\n",
       "      <th></th>\n",
       "      <th></th>\n",
       "    </tr>\n",
       "  </thead>\n",
       "  <tbody>\n",
       "    <tr>\n",
       "      <th>0</th>\n",
       "      <td>0.637088</td>\n",
       "      <td>0.920201</td>\n",
       "      <td>0.601633</td>\n",
       "      <td>0.992597</td>\n",
       "      <td>0.546990</td>\n",
       "      <td>0.729443</td>\n",
       "    </tr>\n",
       "    <tr>\n",
       "      <th>1</th>\n",
       "      <td>0.729405</td>\n",
       "      <td>1.179648</td>\n",
       "      <td>0.000000</td>\n",
       "      <td>1.253157</td>\n",
       "      <td>0.652563</td>\n",
       "      <td>0.826534</td>\n",
       "    </tr>\n",
       "  </tbody>\n",
       "</table>\n",
       "</div>"
      ],
      "text/plain": [
       "                    profit                                                  \n",
       "operative_system   android       iOS     linux       mac     other   windows\n",
       "test                                                                        \n",
       "0                 0.637088  0.920201  0.601633  0.992597  0.546990  0.729443\n",
       "1                 0.729405  1.179648  0.000000  1.253157  0.652563  0.826534"
      ]
     },
     "execution_count": 8,
     "metadata": {},
     "output_type": "execute_result"
    }
   ],
   "source": [
    "# Now let's create some tables and figures to visualize these data\n",
    "count_by_system = test_results.pivot_table(index='test', columns = 'operative_system', \n",
    "                    aggfunc={'profit':len})\n",
    "profit_by_system = test_results.pivot_table(index='test', columns = 'operative_system', \n",
    "                    aggfunc={'profit':sum})\n",
    "prof_per_person_system = profit_by_system.div(count_by_system)\n",
    "\n",
    "\n",
    "print(count_by_system)\n",
    "print(profit_by_system)\n",
    "prof_per_person_system"
   ]
  },
  {
   "cell_type": "code",
   "execution_count": 9,
   "metadata": {},
   "outputs": [
    {
     "data": {
      "text/plain": [
       "<matplotlib.figure.Figure at 0x11c21df28>"
      ]
     },
     "metadata": {},
     "output_type": "display_data"
    },
    {
     "data": {
      "image/png": "[encoded data removed]",
      "text/plain": [
       "<matplotlib.figure.Figure at 0x11c21d780>"
      ]
     },
     "metadata": {},
     "output_type": "display_data"
    }
   ],
   "source": [
    "# And graphically - let's see where the profit is coming from, in terms of system\n",
    "plt.clf()\n",
    "prof_per_person_system.plot()\n",
    "plt.ylabel(\"Profit per person (dollars)\")\n",
    "plt.xlabel(\"Price\")\n",
    "plt.legend(loc='upper center', bbox_to_anchor=(0.5, 1.45), ncol=3, fancybox=True)\n",
    "plt.xticks([0,1],['\\$39','\\$59'])\n",
    "\n",
    "plt.show()"
   ]
  },
  {
   "cell_type": "markdown",
   "metadata": {},
   "source": [
    "We'd like to know whether our overall profits per person are better at the \\$59 than in the \\$39 price. Here we can see that for most systems this is true, but for Linux users in particular it drops off completely at the new price, even though we have a comparable number of linux users arriving as at the \\$39 price. This may indicate that these users are particularly sensitive to price."
   ]
  },
  {
   "cell_type": "code",
   "execution_count": 10,
   "metadata": {},
   "outputs": [
    {
     "name": "stdout",
     "output_type": "stream",
     "text": [
      "          profit                                                             \\\n",
      "source  ads-bing ads-google ads-yahoo ads_facebook ads_other direct_traffic   \n",
      "test                                                                          \n",
      "0       0.521462   0.880063  0.656484     0.922522  0.601527       0.526891   \n",
      "1       0.565175   1.158208  0.662921     0.994502  0.731220       0.596568   \n",
      "\n",
      "                                                                              \n",
      "source friend_referral  seo-bing seo-google seo-other seo-yahoo seo_facebook  \n",
      "test                                                                          \n",
      "0             1.625867  1.173815   0.682397  0.683279  0.761019     0.680856  \n",
      "1             1.975255  0.796319   0.944293  0.736404  0.617304     0.802253  \n"
     ]
    },
    {
     "data": {
      "text/plain": [
       "<matplotlib.figure.Figure at 0x10d675eb8>"
      ]
     },
     "metadata": {},
     "output_type": "display_data"
    },
    {
     "data": {
      "image/png": "[encoded data removed]",
      "text/plain": [
       "<matplotlib.figure.Figure at 0x1181b1ef0>"
      ]
     },
     "metadata": {},
     "output_type": "display_data"
    }
   ],
   "source": [
    "# Let's similarly visualize by source and by device\n",
    "count_by_source = test_results.pivot_table(index='test', columns = 'source', \n",
    "                    aggfunc={'profit':len})\n",
    "profit_by_source = test_results.pivot_table(index='test', columns = 'source', \n",
    "                    aggfunc={'profit':sum})\n",
    "prof_per_person_source = profit_by_source.div(count_by_source)\n",
    "\n",
    "print(prof_per_person_source)\n",
    "\n",
    "plt.clf()\n",
    "prof_per_person_source.plot()\n",
    "plt.ylabel(\"Profit per person (dollars)\")\n",
    "plt.xlabel(\"Price\")\n",
    "plt.legend(loc='upper center', bbox_to_anchor=(0.5, 1.45), ncol=3, fancybox=True)\n",
    "plt.xticks([0,1],['\\$39','\\$59'])\n",
    "\n",
    "plt.show()\n",
    "\n"
   ]
  },
  {
   "cell_type": "markdown",
   "metadata": {},
   "source": [
    "Here we can see that the profit has really increased from friend referrals - we're doing something right there, at the new price. It's dropped off sharply for people coming in through SEO-Yahoo and SEO-Bing; perhaps these people are more price sensitive? Or perhaps there's an opportunity here (e.g., we may still be advertising the old price on these services)."
   ]
  },
  {
   "cell_type": "code",
   "execution_count": 11,
   "metadata": {},
   "outputs": [
    {
     "name": "stdout",
     "output_type": "stream",
     "text": [
      "          profit          \n",
      "device    mobile       web\n",
      "test                      \n",
      "0       0.775017  0.777645\n",
      "1       0.952624  0.869888\n"
     ]
    },
    {
     "data": {
      "text/plain": [
       "<matplotlib.figure.Figure at 0x11329a6d8>"
      ]
     },
     "metadata": {},
     "output_type": "display_data"
    },
    {
     "data": {
      "image/png": "[encoded data removed]",
      "text/plain": [
       "<matplotlib.figure.Figure at 0x11af57668>"
      ]
     },
     "metadata": {},
     "output_type": "display_data"
    }
   ],
   "source": [
    "# Visualizing by device\n",
    "count_by_device = test_results.pivot_table(index='test', columns = 'device', \n",
    "                    aggfunc={'profit':len})\n",
    "profit_by_device = test_results.pivot_table(index='test', columns = 'device', \n",
    "                    aggfunc={'profit':sum})\n",
    "prof_per_person_device = profit_by_device.div(count_by_device)\n",
    "\n",
    "print(prof_per_person_device)\n",
    "\n",
    "plt.clf()\n",
    "prof_per_person_device.plot()\n",
    "plt.ylabel(\"Profit per person (dollars)\")\n",
    "plt.xlabel(\"Price\")\n",
    "plt.legend(loc='upper center', bbox_to_anchor=(0.5, 1.45), ncol=2, fancybox=True)\n",
    "plt.xticks([0,1],['\\$39','\\$59'])\n",
    "\n",
    "plt.show()\n",
    "\n",
    "\n"
   ]
  },
  {
   "cell_type": "markdown",
   "metadata": {},
   "source": [
    "The device breakdown doesn't appear particularly meaningful, though we are getting a lot more of our profits from mobile sales at the new price than we were at the old."
   ]
  },
  {
   "cell_type": "markdown",
   "metadata": {},
   "source": [
    "### Step 4: Answer the questions\n",
    "We were asked two specific questions:\n",
    "1. Which of these two price points is better?\n",
    "2. Did the test go on for too long? And if so, when could we have stopped it?"
   ]
  },
  {
   "cell_type": "code",
   "execution_count": 13,
   "metadata": {},
   "outputs": [
    {
     "name": "stdout",
     "output_type": "stream",
     "text": [
      "39 202517 0.0198995639872 0.139655187302\n",
      "59 113918 0.0155550483681 0.123746065951\n"
     ]
    },
    {
     "data": {
      "image/png": "[encoded data removed]",
      "text/plain": [
       "<matplotlib.figure.Figure at 0x10d8f9f28>"
      ]
     },
     "metadata": {},
     "output_type": "display_data"
    }
   ],
   "source": [
    "# What are the mean conversion rates, by price(=test)?\n",
    "plt.clf()\n",
    "prices = [''] # first tick is at zero, so make that one blank\n",
    "means = []\n",
    "stdErrs = []\n",
    "for price in test_results.price.unique():\n",
    "    prices.append(price)\n",
    "    price_rows = test_results.loc[test_results['price']==price]\n",
    "    means.append(np.mean(price_rows['converted']))\n",
    "    stdErrs.append((np.std(price_rows['converted'])) / np.sqrt(len(price_rows)))\n",
    "    print(price, len(price_rows), np.mean(price_rows['converted']), \n",
    "          np.std(price_rows['converted']))\n",
    "    plt.errorbar(price, np.mean(price_rows['converted']), \n",
    "                 (np.std(price_rows['converted'])) / np.sqrt(len(price_rows)), linestyle='None', marker='^')\n",
    "    \n",
    "plt.ylabel('Mean conversion rate (error bars = StErr)')\n",
    "plt.xlabel('Price (39 or 59)')\n",
    "                  \n",
    "plt.show()"
   ]
  },
  {
   "cell_type": "code",
   "execution_count": 14,
   "metadata": {},
   "outputs": [
    {
     "name": "stdout",
     "output_type": "stream",
     "text": [
      "Ttest_indResult(statistic=8.744781828681587, pvalue=2.2450851601497147e-18)\n",
      "RanksumsResult(statistic=2.0318234376849711, pvalue=0.042171533571227014)\n"
     ]
    }
   ],
   "source": [
    "# Std Err doesn't really apply here, since we don't have a normal distribution (really), but with so many datapoints\n",
    "#    I imagine the central limit theorem kicks in. Still, we should probably check (with a non-parametric test?).\n",
    "price39 = test_results.loc[test_results['price']==39]\n",
    "price59 = test_results.loc[test_results['price']==59]\n",
    "\n",
    "t_test = stats.ttest_ind(price39['converted'], price59['converted'], axis=0, equal_var=True, nan_policy='propagate')\n",
    "rank_sum = stats.ranksums(price39['converted'], price59['converted'])\n",
    "print(t_test)\n",
    "print(rank_sum)"
   ]
  },
  {
   "cell_type": "markdown",
   "metadata": {},
   "source": [
    "That's a huge difference between the parametric and non-parametric p-values; this is reasonable, since the rank-sum only has three ranks to deal with (0, 39, 59). Still, if even that shows a significant difference (at alpha = .05), we can be quite confident it's a real difference. "
   ]
  },
  {
   "cell_type": "code",
   "execution_count": 15,
   "metadata": {},
   "outputs": [
    {
     "name": "stdout",
     "output_type": "stream",
     "text": [
      "Profit per person in the 39 group = 0.776082995502\n",
      "Profit per person in the 59 group = 0.917747853719\n"
     ]
    }
   ],
   "source": [
    "# Given that more people convert at a lower price (expected), we'll have to do some math to see which is the best price\n",
    "\n",
    "# For every 1 person that visited the site, 0.019899563987220825 people bought at $39; so, profit per person = \n",
    "rows_39 = test_results.loc[test_results.price == 39]\n",
    "print(\"Profit per person in the 39 group = %s\" % (39 * np.mean(rows_39.converted))) # 0.776 = profit per person\n",
    "\n",
    "# For every 1 person that visited the site, 0.01555504836812444 people bought at $59\n",
    "rows_59 = test_results.loc[test_results.price == 59]\n",
    "print(\"Profit per person in the 59 group = %s\" % (59 * np.mean(rows_59.converted))) # 0.918 = profit per person\n",
    "\n",
    "# If we want to know whether the new price is profitable, we need to have a hypothesis test that the profit is equal\n"
   ]
  },
  {
   "cell_type": "code",
   "execution_count": 16,
   "metadata": {
    "collapsed": true
   },
   "outputs": [],
   "source": [
    "def t_test_duration(inputs_39, inputs_59, print_vals):\n",
    "    profits_39 = [x * 39 for x in inputs_39]\n",
    "    profits_59 = [x * 59 for x in inputs_59]\n",
    "    p_val = stats.ttest_ind(profits_39, profits_59, axis=0, equal_var=True, nan_policy='propagate')\n",
    "    if (print_vals == True):\n",
    "        print(p_val)\n",
    "    \n",
    "    return p_val"
   ]
  },
  {
   "cell_type": "code",
   "execution_count": 17,
   "metadata": {},
   "outputs": [
    {
     "name": "stdout",
     "output_type": "stream",
     "text": [
      "    days   means39   means59         pvals  stdevs39  stdevs59\n",
      "0 0 days  0.694362  0.918685  8.900784e-02  5.157323  7.304686\n",
      "0 1 days  0.788491  0.765571  1.885445e-01  5.489030  6.677019\n",
      "0 2 days  0.906977  0.766234  2.901827e-01  5.877881  6.679871\n",
      "0 3 days  0.948354  0.996622  6.377728e-03  6.007198  7.603119\n",
      "0 4 days  0.834901  0.986697  3.766467e-06  5.644828  7.565815\n",
      "0 5 days  0.829723  1.041978  1.217158e-09  5.627676  7.771164\n",
      "0 6 days  0.825489  1.025122  5.111421e-11  5.613613  7.709170\n",
      "0 7 days  0.832539  1.030649  1.454277e-11  5.637013  7.729555\n",
      "0 8 days  0.832337  1.016738  1.196656e-11  5.636344  7.678136\n",
      "0 9 days  0.822296  1.020800  1.129813e-12  5.602977  7.693189\n"
     ]
    }
   ],
   "source": [
    "# Let's see at what point the test could have been stopped with statistically significant results\n",
    "test_results = test_results.sort_values(by='date')\n",
    "start_date = min(test_results.date)\n",
    "\n",
    "results_table = pd.DataFrame(index=[], columns=['days', 'means39', 'means59', 'stdevs39', 'stdevs59', 'pvals'])\n",
    "\n",
    "for uq_date in test_results.date.unique():\n",
    "    rows_in_range = test_results[test_results.date <= uq_date]\n",
    "    in_range_39 = rows_in_range.loc[rows_in_range.price == 39]\n",
    "    in_range_59 = rows_in_range.loc[rows_in_range.price == 59]\n",
    "    \n",
    "    date = rows_in_range['date'].iloc[-1] # completely insane that I can't get this from uq_date, which is a datetime64 for some stupid reason\n",
    "\n",
    "    days = date - start_date\n",
    "    p_val = t_test_duration(in_range_39['profit'], in_range_59['profit'], False)\n",
    "    results_table = pd.concat([results_table, \n",
    "                               pd.DataFrame({'days': [days], 'means39': [np.mean(in_range_39['profit'])], \n",
    "                                             'means59': [np.mean(in_range_59['profit'])],\n",
    "                                             'stdevs39': [np.std(in_range_39['profit'])], \n",
    "                                             'stdevs59': [np.std(in_range_59['profit'])], 'pvals': [p_val[1]]})])\n",
    "print(results_table[:10])\n",
    "\n",
    "# Though note we'll have to use a Bonferroni or some other correction for multiple tests\n"
   ]
  },
  {
   "cell_type": "code",
   "execution_count": 18,
   "metadata": {},
   "outputs": [
    {
     "name": "stdout",
     "output_type": "stream",
     "text": [
      "   day  one_tailed_pvals   bonf_05  alpha_05   bonf_01  alpha_01\n",
      "0    0      4.450392e-02  0.050000      True  0.010000     False\n",
      "0    1      9.427227e-02  0.025000     False  0.005000     False\n",
      "0    2      1.450913e-01  0.016667     False  0.003333     False\n",
      "0    3      3.188864e-03  0.012500      True  0.002500     False\n",
      "0    4      1.883233e-06  0.010000      True  0.002000      True\n",
      "0    5      6.085789e-10  0.008333      True  0.001667      True\n",
      "0    6      2.555711e-11  0.007143      True  0.001429      True\n",
      "0    7      7.271384e-12  0.006250      True  0.001250      True\n",
      "0    8      5.983282e-12  0.005556      True  0.001111      True\n",
      "0    9      5.649064e-13  0.005000      True  0.001000      True\n"
     ]
    }
   ],
   "source": [
    "# Let's do the actual calculation about when to stop, for alpha values of .05 and .01\n",
    "finished_calc = pd.DataFrame(index=[], columns=['day'])\n",
    "finished_calc['day'] = results_table['days'].dt.days\n",
    "\n",
    "finished_calc['one_tailed_pvals'] = results_table['pvals'] / 2 # assume we knew the higher price would be better\n",
    "finished_calc['bonf_05'] = .05\n",
    "finished_calc['bonf_05'] = finished_calc['bonf_05'] / (finished_calc['day'] + 1)\n",
    "finished_calc['alpha_05'] = np.where((finished_calc['one_tailed_pvals'] < \n",
    "                                      finished_calc['bonf_05']), True, False)\n",
    "finished_calc['bonf_01'] = .01\n",
    "finished_calc['bonf_01'] = finished_calc['bonf_01'] / (finished_calc['day'] + 1)\n",
    "finished_calc['alpha_01'] = np.where((finished_calc['one_tailed_pvals'] < \n",
    "                                      finished_calc['bonf_01']), True, False)\n",
    "\n",
    "\n",
    "print(finished_calc[:10])"
   ]
  },
  {
   "cell_type": "markdown",
   "metadata": {},
   "source": [
    "This suggests that we could have stopped the test after less than a week and been confident that the new price was better. However, this assumes that the distribution of the prices is Gaussian, which it certainly is not. We could do a nonparmateric test (e.g., Wilcoxin R-S), but we don't have the power. Thus, a chi-squared test (comparing the proportions) would likely be preferable."
   ]
  },
  {
   "cell_type": "code",
   "execution_count": 19,
   "metadata": {},
   "outputs": [
    {
     "name": "stdout",
     "output_type": "stream",
     "text": [
      "Price 39: mean profit from google ads: 0.164460267533\n",
      "Price 39: mean profit from facebook ads: 0.1552165991\n",
      "Price 39: mean profit from yahoo ads: 0.0155986904803\n",
      "Price 39: mean profit from bing ads: 0.0375524030081\n",
      "Price 39: mean profit from other ads: 0.0571951984278\n",
      "Price 39: mean profit from google seo: 0.0508401763803\n",
      "Price 39: mean profit from facebook seo: 0.0452554600355\n",
      "Price 39: mean profit from yahoo seo: 0.016368996183\n",
      "Price 39: mean profit from bing seo: 0.00770305702731\n",
      "Price 39: mean profit from other seo: 0.0198353718453\n",
      "Price 39: mean profit from direct traffic: 0.100717470632\n",
      "Price 39: mean profit from friend referral: 0.105339304848\n",
      "\n",
      "Price 59: mean profit from google ads: 0.218560719114\n",
      "Price 59: mean profit from facebook ads: 0.168322828701\n",
      "Price 59: mean profit from yahoo ads: 0.0160554082761\n",
      "Price 59: mean profit from bing ads: 0.0409153952843\n",
      "Price 59: mean profit from other ads: 0.0678470478765\n",
      "Price 59: mean profit from google seo: 0.0668112150845\n",
      "Price 59: mean profit from facebook seo: 0.0543812215804\n",
      "Price 59: mean profit from yahoo seo: 0.0134658262961\n",
      "Price 59: mean profit from bing seo: 0.00569708035605\n",
      "Price 59: mean profit from other seo: 0.0217524886322\n",
      "Price 59: mean profit from direct traffic: 0.112905774329\n",
      "Price 59: mean profit from friend referral: 0.131032848189\n"
     ]
    }
   ],
   "source": [
    "# We should also ensure this was a fair test - means for various subgroups should be similar\n",
    "#    Though note: we've already done most of this in our IDE (Step 3)\n",
    "\n",
    "test_results_39 = test_results[test_results['price'] == 39]\n",
    "\n",
    "subgroups_39 = pd.DataFrame(index=[], columns=['source'])\n",
    "\n",
    "subgroups_39['source'] = test_results_39['source']\n",
    "subgroups_39['profit'] = test_results_39['profit']\n",
    "subgroups_39['prof_ads-g'] = test_results_39['source'].map(lambda x: x == 'ads-google')\n",
    "subgroups_39['prof_ads-g'] = subgroups_39['prof_ads-g'] * subgroups_39['profit']\n",
    "subgroups_39['prof_ads-f'] = test_results_39['source'].map(lambda x: x == 'ads_facebook')\n",
    "subgroups_39['prof_ads-f'] = subgroups_39['prof_ads-f'] * subgroups_39['profit']\n",
    "subgroups_39['prof_ads-b'] = test_results_39['source'].map(lambda x: x == 'ads-bing')\n",
    "subgroups_39['prof_ads-b'] = subgroups_39['prof_ads-b'] * subgroups_39['profit']\n",
    "subgroups_39['prof_ads-y'] = test_results_39['source'].map(lambda x: x == 'ads-yahoo')\n",
    "subgroups_39['prof_ads-y'] = subgroups_39['prof_ads-y'] * subgroups_39['profit']\n",
    "subgroups_39['prof_ads-o'] = test_results_39['source'].map(lambda x: x == 'ads_other')\n",
    "subgroups_39['prof_ads-o'] = subgroups_39['prof_ads-o'] * subgroups_39['profit']\n",
    "\n",
    "subgroups_39['prof_seo-g'] = test_results_39['source'].map(lambda x: x == 'seo-google')\n",
    "subgroups_39['prof_seo-g'] = subgroups_39['prof_seo-g'] * subgroups_39['profit']\n",
    "subgroups_39['prof_seo-f'] = test_results_39['source'].map(lambda x: x == 'seo_facebook')\n",
    "subgroups_39['prof_seo-f'] = subgroups_39['prof_seo-f'] * subgroups_39['profit']\n",
    "subgroups_39['prof_seo-b'] = test_results_39['source'].map(lambda x: x == 'seo-bing')\n",
    "subgroups_39['prof_seo-b'] = subgroups_39['prof_seo-b'] * subgroups_39['profit']\n",
    "subgroups_39['prof_seo-y'] = test_results_39['source'].map(lambda x: x == 'seo-yahoo')\n",
    "subgroups_39['prof_seo-y'] = subgroups_39['prof_seo-y'] * subgroups_39['profit']\n",
    "subgroups_39['prof_seo-o'] = test_results_39['source'].map(lambda x: x == 'seo-other')\n",
    "subgroups_39['prof_seo-o'] = subgroups_39['prof_seo-o'] * subgroups_39['profit']\n",
    "\n",
    "subgroups_39['prof_direct'] = test_results_39['source'].map(lambda x: x == 'direct_traffic')\n",
    "subgroups_39['prof_direct'] = subgroups_39['prof_direct'] * subgroups_39['profit']\n",
    "subgroups_39['prof_friend'] = test_results_39['source'].map(lambda x: x == 'friend_referral')\n",
    "subgroups_39['prof_friend'] = subgroups_39['prof_friend'] * subgroups_39['profit']\n",
    "\n",
    "\n",
    "\n",
    "\n",
    "\n",
    "test_results_59 = test_results[test_results['price'] == 59]\n",
    "\n",
    "subgroups_59 = pd.DataFrame(index=[], columns=['source'])\n",
    "\n",
    "subgroups_59['source'] = test_results_59['source']\n",
    "subgroups_59['profit'] = test_results_59['profit']\n",
    "subgroups_59['prof_ads-g'] = test_results_59['source'].map(lambda x: x == 'ads-google')\n",
    "subgroups_59['prof_ads-g'] = subgroups_59['prof_ads-g'] * subgroups_59['profit']\n",
    "subgroups_59['prof_ads-f'] = test_results_59['source'].map(lambda x: x == 'ads_facebook')\n",
    "subgroups_59['prof_ads-f'] = subgroups_59['prof_ads-f'] * subgroups_59['profit']\n",
    "subgroups_59['prof_ads-b'] = test_results_59['source'].map(lambda x: x == 'ads-bing')\n",
    "subgroups_59['prof_ads-b'] = subgroups_59['prof_ads-b'] * subgroups_59['profit']\n",
    "subgroups_59['prof_ads-y'] = test_results_59['source'].map(lambda x: x == 'ads-yahoo')\n",
    "subgroups_59['prof_ads-y'] = subgroups_59['prof_ads-y'] * subgroups_59['profit']\n",
    "subgroups_59['prof_ads-o'] = test_results_59['source'].map(lambda x: x == 'ads_other')\n",
    "subgroups_59['prof_ads-o'] = subgroups_59['prof_ads-o'] * subgroups_59['profit']\n",
    "\n",
    "subgroups_59['prof_seo-g'] = test_results_59['source'].map(lambda x: x == 'seo-google')\n",
    "subgroups_59['prof_seo-g'] = subgroups_59['prof_seo-g'] * subgroups_59['profit']\n",
    "subgroups_59['prof_seo-f'] = test_results_59['source'].map(lambda x: x == 'seo_facebook')\n",
    "subgroups_59['prof_seo-f'] = subgroups_59['prof_seo-f'] * subgroups_59['profit']\n",
    "subgroups_59['prof_seo-b'] = test_results_59['source'].map(lambda x: x == 'seo-bing')\n",
    "subgroups_59['prof_seo-b'] = subgroups_59['prof_seo-b'] * subgroups_59['profit']\n",
    "subgroups_59['prof_seo-y'] = test_results_59['source'].map(lambda x: x == 'seo-yahoo')\n",
    "subgroups_59['prof_seo-y'] = subgroups_59['prof_seo-y'] * subgroups_59['profit']\n",
    "subgroups_59['prof_seo-o'] = test_results_59['source'].map(lambda x: x == 'seo-other')\n",
    "subgroups_59['prof_seo-o'] = subgroups_59['prof_seo-o'] * subgroups_59['profit']\n",
    "\n",
    "subgroups_59['prof_direct'] = test_results_59['source'].map(lambda x: x == 'direct_traffic')\n",
    "subgroups_59['prof_direct'] = subgroups_59['prof_direct'] * subgroups_59['profit']\n",
    "subgroups_59['prof_friend'] = test_results_59['source'].map(lambda x: x == 'friend_referral')\n",
    "subgroups_59['prof_friend'] = subgroups_59['prof_friend'] * subgroups_59['profit']\n",
    "\n",
    "\n",
    "\n",
    "print('Price 39: mean profit from google ads: %s' % np.mean(subgroups_39['prof_ads-g']))\n",
    "print('Price 39: mean profit from facebook ads: %s' % np.mean(subgroups_39['prof_ads-f']))\n",
    "print('Price 39: mean profit from yahoo ads: %s' % np.mean(subgroups_39['prof_ads-y']))\n",
    "print('Price 39: mean profit from bing ads: %s' % np.mean(subgroups_39['prof_ads-b']))\n",
    "print('Price 39: mean profit from other ads: %s' % np.mean(subgroups_39['prof_ads-o']))\n",
    "\n",
    "print('Price 39: mean profit from google seo: %s' % np.mean(subgroups_39['prof_seo-g']))\n",
    "print('Price 39: mean profit from facebook seo: %s' % np.mean(subgroups_39['prof_seo-f']))\n",
    "print('Price 39: mean profit from yahoo seo: %s' % np.mean(subgroups_39['prof_seo-y']))\n",
    "print('Price 39: mean profit from bing seo: %s' % np.mean(subgroups_39['prof_seo-b']))\n",
    "print('Price 39: mean profit from other seo: %s' % np.mean(subgroups_39['prof_seo-o']))\n",
    "\n",
    "print('Price 39: mean profit from direct traffic: %s' % np.mean(subgroups_39['prof_direct']))\n",
    "print('Price 39: mean profit from friend referral: %s' % np.mean(subgroups_39['prof_friend']))\n",
    "\n",
    "print('') # line break\n",
    "\n",
    "print('Price 59: mean profit from google ads: %s' % np.mean(subgroups_59['prof_ads-g']))\n",
    "print('Price 59: mean profit from facebook ads: %s' % np.mean(subgroups_59['prof_ads-f']))\n",
    "print('Price 59: mean profit from yahoo ads: %s' % np.mean(subgroups_59['prof_ads-y']))\n",
    "print('Price 59: mean profit from bing ads: %s' % np.mean(subgroups_59['prof_ads-b']))\n",
    "print('Price 59: mean profit from other ads: %s' % np.mean(subgroups_59['prof_ads-o']))\n",
    "\n",
    "print('Price 59: mean profit from google seo: %s' % np.mean(subgroups_59['prof_seo-g']))\n",
    "print('Price 59: mean profit from facebook seo: %s' % np.mean(subgroups_59['prof_seo-f']))\n",
    "print('Price 59: mean profit from yahoo seo: %s' % np.mean(subgroups_59['prof_seo-y']))\n",
    "print('Price 59: mean profit from bing seo: %s' % np.mean(subgroups_59['prof_seo-b']))\n",
    "print('Price 59: mean profit from other seo: %s' % np.mean(subgroups_59['prof_seo-o']))\n",
    "\n",
    "print('Price 59: mean profit from direct traffic: %s' % np.mean(subgroups_59['prof_direct']))\n",
    "print('Price 59: mean profit from friend referral: %s' % np.mean(subgroups_59['prof_friend']))\n"
   ]
  },
  {
   "cell_type": "code",
   "execution_count": 20,
   "metadata": {},
   "outputs": [
    {
     "name": "stdout",
     "output_type": "stream",
     "text": [
      "Price 39: mean profit from mobile: 0.460642810233\n",
      "Price 39: mean profit from web: 0.315440185268\n",
      "Price 39: mean profit from windows: 0.228780793711\n",
      "Price 39: mean profit from linux: 0.00654759847321\n",
      "Price 39: mean profit from mac: 0.080111793084\n",
      "Price 39: mean profit from iOS: 0.280776428645\n",
      "Price 39: mean profit from android: 0.151557647012\n",
      "Price 39: mean profit from other: 0.0283087345754\n",
      "\n",
      "Price 59: mean profit from mobile: 0.551063045348\n",
      "Price 59: mean profit from web: 0.366684808371\n",
      "Price 59: mean profit from windows: 0.27087027511\n",
      "Price 59: mean profit from linux: 0.0\n",
      "Price 59: mean profit from mac: 0.0958145332608\n",
      "Price 59: mean profit from iOS: 0.347521901719\n",
      "Price 59: mean profit from android: 0.170912410681\n",
      "Price 59: mean profit from other: 0.0326287329483\n"
     ]
    }
   ],
   "source": [
    "# Anything interesting in the breakdown from device or OS?\n",
    "\n",
    "test_results_39 = test_results[test_results['price'] == 39]\n",
    "\n",
    "subgroups_39 = pd.DataFrame(index=[], columns=['source'])\n",
    "\n",
    "subgroups_39['source'] = test_results_39['source']\n",
    "subgroups_39['profit'] = test_results_39['profit']\n",
    "subgroups_39['prof_mobile'] = test_results_39['device'].map(lambda x: x == 'mobile')\n",
    "subgroups_39['prof_mobile'] = subgroups_39['prof_mobile'] * subgroups_39['profit']\n",
    "subgroups_39['prof_web'] = test_results_39['device'].map(lambda x: x == 'web')\n",
    "subgroups_39['prof_web'] = subgroups_39['prof_web'] * subgroups_39['profit']\n",
    "\n",
    "subgroups_39['prof_win'] = test_results_39['operative_system'].map(lambda x: x == 'windows')\n",
    "subgroups_39['prof_win'] = subgroups_39['prof_win'] * subgroups_39['profit']\n",
    "subgroups_39['prof_linux'] = test_results_39['operative_system'].map(lambda x: x == 'linux')\n",
    "subgroups_39['prof_linux'] = subgroups_39['prof_linux'] * subgroups_39['profit']\n",
    "subgroups_39['prof_mac'] = test_results_39['operative_system'].map(lambda x: x == 'mac')\n",
    "subgroups_39['prof_mac'] = subgroups_39['prof_mac'] * subgroups_39['profit']\n",
    "subgroups_39['prof_iOS'] = test_results_39['operative_system'].map(lambda x: x == 'iOS')\n",
    "subgroups_39['prof_iOS'] = subgroups_39['prof_iOS'] * subgroups_39['profit']\n",
    "subgroups_39['prof_android'] = test_results_39['operative_system'].map(lambda x: x == 'android')\n",
    "subgroups_39['prof_android'] = subgroups_39['prof_android'] * subgroups_39['profit']\n",
    "subgroups_39['prof_other'] = test_results_39['operative_system'].map(lambda x: x == 'other')\n",
    "subgroups_39['prof_other'] = subgroups_39['prof_other'] * subgroups_39['profit']\n",
    "\n",
    "\n",
    "test_results_59 = test_results[test_results['price'] == 59]\n",
    "\n",
    "subgroups_59 = pd.DataFrame(index=[], columns=['source'])\n",
    "\n",
    "subgroups_59['source'] = test_results_59['source']\n",
    "subgroups_59['profit'] = test_results_59['profit']\n",
    "\n",
    "subgroups_59['prof_mobile'] = test_results_59['device'].map(lambda x: x == 'mobile')\n",
    "subgroups_59['prof_mobile'] = subgroups_59['prof_mobile'] * subgroups_59['profit']\n",
    "subgroups_59['prof_web'] = test_results_59['device'].map(lambda x: x == 'web')\n",
    "subgroups_59['prof_web'] = subgroups_59['prof_web'] * subgroups_59['profit']\n",
    "\n",
    "subgroups_59['prof_win'] = test_results_59['operative_system'].map(lambda x: x == 'windows')\n",
    "subgroups_59['prof_win'] = subgroups_59['prof_win'] * subgroups_59['profit']\n",
    "subgroups_59['prof_linux'] = test_results_59['operative_system'].map(lambda x: x == 'linux')\n",
    "subgroups_59['prof_linux'] = subgroups_59['prof_linux'] * subgroups_59['profit']\n",
    "subgroups_59['prof_mac'] = test_results_59['operative_system'].map(lambda x: x == 'mac')\n",
    "subgroups_59['prof_mac'] = subgroups_59['prof_mac'] * subgroups_59['profit']\n",
    "subgroups_59['prof_iOS'] = test_results_59['operative_system'].map(lambda x: x == 'iOS')\n",
    "subgroups_59['prof_iOS'] = subgroups_59['prof_iOS'] * subgroups_59['profit']\n",
    "subgroups_59['prof_android'] = test_results_59['operative_system'].map(lambda x: x == 'android')\n",
    "subgroups_59['prof_android'] = subgroups_59['prof_android'] * subgroups_59['profit']\n",
    "subgroups_59['prof_other'] = test_results_59['operative_system'].map(lambda x: x == 'other')\n",
    "subgroups_59['prof_other'] = subgroups_59['prof_other'] * subgroups_59['profit']\n",
    "\n",
    "\n",
    "\n",
    "print('Price 39: mean profit from mobile: %s' % np.mean(subgroups_39['prof_mobile']))\n",
    "print('Price 39: mean profit from web: %s' % np.mean(subgroups_39['prof_web']))\n",
    "print('Price 39: mean profit from windows: %s' % np.mean(subgroups_39['prof_win']))\n",
    "print('Price 39: mean profit from linux: %s' % np.mean(subgroups_39['prof_linux']))\n",
    "print('Price 39: mean profit from mac: %s' % np.mean(subgroups_39['prof_mac']))\n",
    "print('Price 39: mean profit from iOS: %s' % np.mean(subgroups_39['prof_iOS']))\n",
    "print('Price 39: mean profit from android: %s' % np.mean(subgroups_39['prof_android']))\n",
    "print('Price 39: mean profit from other: %s' % np.mean(subgroups_39['prof_other']))\n",
    "\n",
    "print('') # line break\n",
    "\n",
    "print('Price 59: mean profit from mobile: %s' % np.mean(subgroups_59['prof_mobile']))\n",
    "print('Price 59: mean profit from web: %s' % np.mean(subgroups_59['prof_web']))\n",
    "print('Price 59: mean profit from windows: %s' % np.mean(subgroups_59['prof_win']))\n",
    "print('Price 59: mean profit from linux: %s' % np.mean(subgroups_59['prof_linux']))\n",
    "print('Price 59: mean profit from mac: %s' % np.mean(subgroups_59['prof_mac']))\n",
    "print('Price 59: mean profit from iOS: %s' % np.mean(subgroups_59['prof_iOS']))\n",
    "print('Price 59: mean profit from android: %s' % np.mean(subgroups_59['prof_android']))\n",
    "print('Price 59: mean profit from other: %s' % np.mean(subgroups_59['prof_other']))\n",
    "\n",
    "\n"
   ]
  },
  {
   "cell_type": "markdown",
   "metadata": {},
   "source": [
    "### Step 5: Draw conclusions and make recommendations"
   ]
  },
  {
   "cell_type": "markdown",
   "metadata": {},
   "source": [
    "# Conclusions\n",
    "**1. Company XYZ should sell their product at \\$59, not \\$39.**<br>\n",
    "While the conversion rate is lower at the higher price (around 1.6%, as opposed to around 2% for the lower price), the number of visitors that the site receives each day means that XYZ is making an average profit of 92 cents per visitor in the high-price group, compared to 78 cents per visitor with the original price.<br><br>\n",
    "**2. The VP's intuition was correct: this test went on longer than it needed to.**<br>\n",
    "Though these data are not at all normally distributed, the amount of data we have access to means that a parametric test like the t-test will probably give indicative results. If you use a t-test to determine whether the average profit per visitor is higher in the high-price group, you can tell within the first few days (depending on whether your alpha value is .05 or .01) that the profits are higher in the high-price group. Even with a strict correction method like Bonferroni, the high-price group comes out significantly more profitable within 5 days of testing.<br><br>\n",
    "**3. Other observations / recommendations based on the data**<br>\n",
    "A. Company XYZ had a dramatic drop in sales to Linux users when implementing the higher price. This group may be particularly sensitive to price, and thus perhaps a differential pricing structure could be considered based on operating system. However, the Linux users make up a very small percentage of overall sales, so this should be balanced against potential negative reactions from users of other systems.<br>\n",
    "B. Profit from friend referrals has jumped substantially in the new pricing structure. If XYZ isn't yet incentivizing friend referrals, this would certainly be a place to increase profits.<br>\n",
    "C. Profits have dropped from people coming in through SEO from Yahoo and Bing when implementing the higher price point. This is strange, since those users shouldn't look a whole lot different from Google users. Let's investigate whether the SEO we're using on these platforms is somehow targeting more price-sensitive users.<br>\n",
    "D. When moving to this higher price point, our mobile sales are making up more and more of the total profits. We should focus our advertising on people using mobile devices.<br>\n",
    "E. There were around 350 people whose \"price\" didn't match their \"test\" status (test / control group). If this was generated automatically, there may be a bug in that code - we should check to see what price they actually paid.\n",
    "<br><br>\n",
    "\n",
    "\n",
    "\n"
   ]
  },
  {
   "cell_type": "markdown",
   "metadata": {
    "collapsed": true
   },
   "source": [
    "# Future work\n",
    "**1. If we care about the location of these subjects:**<br>\n",
    "We can check the geo-coordinates provided and make sure they match the cities that are listed. <br><br>\n",
    "**2. We can also sanity-check the OS:**<br>\n",
    "Theoretically, there are a set number of OSs depending on whether your device was \"mobile\" or \"web\". We could determine whether this was in fact the case, and look into erroneous data."
   ]
  },
  {
   "cell_type": "code",
   "execution_count": null,
   "metadata": {
    "collapsed": true
   },
   "outputs": [],
   "source": []
  }
 ],
 "metadata": {
  "kernelspec": {
   "display_name": "Python 3",
   "language": "python",
   "name": "python3"
  },
  "language_info": {
   "codemirror_mode": {
    "name": "ipython",
    "version": 3
   },
   "file_extension": ".py",
   "mimetype": "text/x-python",
   "name": "python",
   "nbconvert_exporter": "python",
   "pygments_lexer": "ipython3",
   "version": "3.6.1"
  }
 },
 "nbformat": 4,
 "nbformat_minor": 2
}
