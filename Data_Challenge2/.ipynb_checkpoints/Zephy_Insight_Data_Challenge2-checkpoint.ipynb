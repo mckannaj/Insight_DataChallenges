{
 "cells": [
  {
   "cell_type": "markdown",
   "metadata": {},
   "source": [
    "## Data Challenge 2: AB Testing\n",
    "\n",
    "**This notebook is intended to explore data from an AB test of pricing for Company XYZ.**<br>\n",
    "The company usually sells its software for \\$39, but has initiated a 90-day test in which a third of the participants are randomly selected to pay \\$59. The VP of marketing wants to know whether they should switch the price, how long they should've run the test, and any other relevant information that might help inform what the optimal price would be. <br><br>\n",
    "I first load the data from two given csv files, then clean the data according to stated parameters for a sanity check (e.g., price should be completely determinable based on whether the person was in the test or control group). I perform several data analyses and visualizations, and finally list conclusions about this test and suggestions about finding the optimal price.<br><br>"
   ]
  },
  {
   "cell_type": "code",
   "execution_count": 3,
   "metadata": {
    "collapsed": true
   },
   "outputs": [],
   "source": [
    "# it's not a huge amount of data; I can simply import it all as two dataframes\n",
    "import pandas as pd\n",
    "\n",
    "user_table = pd.DataFrame.from_csv('/Users/z_home/zLearnPy/LeetCode_forGithub/Insight_DataChallenges/Data_Challenge2/user_table.csv')\n",
    "test_results = pd.DataFrame.from_csv('/Users/z_home/zLearnPy/LeetCode_forGithub/Insight_DataChallenges/Data_Challenge2/test_results.csv')"
   ]
  },
  {
   "cell_type": "code",
   "execution_count": 4,
   "metadata": {},
   "outputs": [
    {
     "name": "stdout",
     "output_type": "stream",
     "text": [
      "                  city country    lat    long\n",
      "user_id                                      \n",
      "402771    North Bergen     USA  40.79  -74.03\n",
      "722510        New York     USA  40.67  -73.94\n",
      "830553        New York     USA  40.67  -73.94\n",
      "558879     San Antonio     USA  29.46  -98.51\n",
      "690980      Louisville     USA  38.22  -85.74\n",
      "696028      Louisville     USA  38.22  -85.74\n",
      "511675        New York     USA  40.67  -73.94\n",
      "77463       Janesville     USA  42.68  -89.02\n",
      "375184        New York     USA  40.67  -73.94\n",
      "584486          Conway     USA  35.09  -92.45\n",
      "521354          DeSoto     USA  32.60  -96.86\n",
      "61526    Pinellas Park     USA  27.86  -82.71\n",
      "254475       Milwaukee     USA  43.06  -87.97\n",
      "582660      Portsmouth     USA  36.86  -76.36\n",
      "965903     Chula Vista     USA  32.63 -117.04\n",
      "                   timestamp           source  device operative_system  test  \\\n",
      "user_id                                                                        \n",
      "538239   2015-03-28 08:21:13        ads-yahoo  mobile          android     1   \n",
      "979357   2015-03-24 09:44:57       ads-google  mobile              iOS     1   \n",
      "669204   2015-03-11 15:51:04     ads_facebook  mobile              iOS     1   \n",
      "867429   2015-05-21 17:43:19       ads-google     web          windows     1   \n",
      "549807   2015-04-24 11:60:20  friend_referral  mobile              iOS     0   \n",
      "80355    2015-04-25 15:32:15  friend_referral     web          windows     1   \n",
      "974935   2015-05-01 14:30:33        ads_other  mobile          android     0   \n",
      "130852   2015-05-17 10:40:41       seo-google  mobile              iOS     0   \n",
      "823870   2015-03-07 10:10:10     ads_facebook  mobile          android     0   \n",
      "427097   2015-04-22 12:46:13       ads-google  mobile              iOS     0   \n",
      "38833    2015-03-25 13:27:49       ads-google     web              mac     0   \n",
      "888077   2015-03-13 13:32:31   direct_traffic  mobile              iOS     0   \n",
      "620608   2015-03-13 11:09:44     ads_facebook  mobile              iOS     1   \n",
      "330244   2015-03-08 12:21:15       ads-google     web          windows     0   \n",
      "826716   2015-03-28 13:30:24     ads_facebook     web          windows     0   \n",
      "\n",
      "         price  converted  \n",
      "user_id                    \n",
      "538239      59          0  \n",
      "979357      59          0  \n",
      "669204      59          0  \n",
      "867429      59          0  \n",
      "549807      39          0  \n",
      "80355       59          0  \n",
      "974935      39          0  \n",
      "130852      39          1  \n",
      "823870      39          0  \n",
      "427097      39          0  \n",
      "38833       39          0  \n",
      "888077      39          0  \n",
      "620608      59          0  \n",
      "330244      39          0  \n",
      "826716      39          0  \n"
     ]
    }
   ],
   "source": [
    "# test cell\n",
    "print(user_table.iloc[100:115,:]) # just to confirm that it looks as expected\n",
    "print(test_results.iloc[100:115,:]) # just to confirm that it looks as expected\n"
   ]
  },
  {
   "cell_type": "code",
   "execution_count": 5,
   "metadata": {},
   "outputs": [
    {
     "name": "stdout",
     "output_type": "stream",
     "text": [
      "test0_price59 = 210\n",
      "test1_price39 = 155\n"
     ]
    }
   ],
   "source": [
    "# Some sanity checks. We've been told some data should match.\n",
    "test0_price59 = test_results.loc[(test_results.price == 59) & (test_results.test == 0)]\n",
    "test1_price39 = test_results.loc[(test_results.price == 39) & (test_results.test == 1)]\n",
    "\n",
    "print('test0_price59 = %s' % len(test0_price59))\n",
    "print('test1_price39 = %s' % len(test1_price39))\n",
    "\n",
    "# add to future work: if we ever care about where they're coming from, make sure lat/long are right for each city\n"
   ]
  },
  {
   "cell_type": "code",
   "execution_count": 6,
   "metadata": {
    "collapsed": true
   },
   "outputs": [],
   "source": [
    "# Exclude untrustworthy data (given it's just a quick analysis, no time to guess which is right)\n",
    "test_results = test_results.loc[((test_results.price == 59) & (test_results.test == 1)) | \n",
    "                               ((test_results.price == 39) & (test_results.test == 0))] # ~350 of these\n",
    "\n",
    "# There are also \"times\" that are nonsense (e.g., 60 in the minutes place); need to deal with these\n",
    "\n",
    "#test_results = test_results.drop(test_results[test_results.timestamp == '2015-04-24 12:60:46'].index)\n",
    "#test_results = test_results.drop(test_results[test_results.timestamp == '2015-04-24 11:60:20'].index)\n",
    "#test_results = test_results.drop(test_results[test_results.timestamp == '2015-03-14 12:60:02'].index)\n"
   ]
  },
  {
   "cell_type": "code",
   "execution_count": 7,
   "metadata": {},
   "outputs": [
    {
     "name": "stdout",
     "output_type": "stream",
     "text": [
      "39 202517 0.019899563987220825 0.1396551873022948\n",
      "59 113918 0.01555504836812444 0.12374606595129586\n"
     ]
    },
    {
     "data": {
      "image/png": "[encoded data removed]",
      "text/plain": [
       "<matplotlib.figure.Figure at 0x11abb5ba8>"
      ]
     },
     "metadata": {},
     "output_type": "display_data"
    }
   ],
   "source": [
    "import matplotlib.pyplot as plt\n",
    "import numpy as np\n",
    "\n",
    "# What are the mean conversion rates, by price(=test)?\n",
    "plt.clf()\n",
    "prices = [''] # first tick is at zero, so make that one blank\n",
    "means = []\n",
    "stdErrs = []\n",
    "for price in test_results.price.unique():\n",
    "    prices.append(price)\n",
    "    price_rows = test_results.loc[test_results['price']==price]\n",
    "    means.append(np.mean(price_rows['converted']))\n",
    "    stdErrs.append((np.std(price_rows['converted'])) / np.sqrt(len(price_rows)))\n",
    "    print(price, len(price_rows), np.mean(price_rows['converted']), \n",
    "          np.std(price_rows['converted']))\n",
    "    plt.errorbar(price, np.mean(price_rows['converted']), \n",
    "                 (np.std(price_rows['converted'])) / np.sqrt(len(price_rows)), linestyle='None', marker='^')\n",
    "    \n",
    "plt.ylabel('Mean conversion rate (error bars = StErr)')\n",
    "plt.xlabel('Price (39 or 59)')\n",
    "                  \n",
    "plt.show()"
   ]
  },
  {
   "cell_type": "code",
   "execution_count": 8,
   "metadata": {},
   "outputs": [
    {
     "name": "stdout",
     "output_type": "stream",
     "text": [
      "Ttest_indResult(statistic=8.744781828681587, pvalue=2.2450851601497147e-18)\n"
     ]
    }
   ],
   "source": [
    "# Looks like there's a statistical difference between these. Let's use a t-test to make sure.\n",
    "import scipy.stats as stats\n",
    "\n",
    "price39 = test_results.loc[test_results['price']==39]\n",
    "price59 = test_results.loc[test_results['price']==59]\n",
    "\n",
    "p_val = stats.ttest_ind(price39['converted'], price59['converted'], axis=0, equal_var=True, nan_policy='propagate')\n",
    "print(p_val)"
   ]
  },
  {
   "cell_type": "code",
   "execution_count": 9,
   "metadata": {},
   "outputs": [
    {
     "name": "stdout",
     "output_type": "stream",
     "text": [
      "2015-03-02 00:00:00\n",
      "2015-05-31 00:00:00\n"
     ]
    }
   ],
   "source": [
    "# We will need to know when people converted. \n",
    "# These date/time strings have weird times (e.g., 60 in the minutes spot), so just grab date\n",
    "from datetime import datetime\n",
    "from datetime import timedelta\n",
    "\n",
    "test_results['date'] = pd.to_datetime(test_results['timestamp'].str[:10], format=\"%Y-%m-%d\")\n",
    "print(min(test_results.date))\n",
    "print(max(test_results.date))"
   ]
  },
  {
   "cell_type": "code",
   "execution_count": 25,
   "metadata": {
    "scrolled": false
   },
   "outputs": [
    {
     "name": "stdout",
     "output_type": "stream",
     "text": [
      "                   timestamp           source  device operative_system  test  \\\n",
      "user_id                                                                        \n",
      "74510    2015-03-02 09:56:56       ads-google  mobile              iOS     0   \n",
      "927072   2015-03-02 09:49:37       ads-google     web          windows     0   \n",
      "975825   2015-03-02 12:20:16         ads-bing  mobile          android     0   \n",
      "99231    2015-03-02 10:33:11         ads-bing     web              mac     1   \n",
      "234962   2015-03-02 12:39:19       ads-google  mobile          android     1   \n",
      "207085   2015-03-02 17:11:56         ads-bing  mobile          android     0   \n",
      "858827   2015-03-02 00:55:47   direct_traffic     web          windows     0   \n",
      "443342   2015-03-02 08:03:56   direct_traffic     web          windows     0   \n",
      "350715   2015-03-02 08:10:48   direct_traffic  mobile          android     0   \n",
      "892440   2015-03-02 10:07:54         ads-bing  mobile          android     1   \n",
      "565004   2015-03-02 16:32:31   direct_traffic  mobile          android     0   \n",
      "226295   2015-03-02 18:43:33   direct_traffic     web            linux     0   \n",
      "636844   2015-03-02 10:36:30       ads-google  mobile            other     1   \n",
      "922037   2015-03-02 15:25:27  friend_referral     web          windows     0   \n",
      "571106   2015-03-02 17:35:49         ads-bing  mobile          android     0   \n",
      "709404   2015-03-02 10:22:13     ads_facebook  mobile            other     0   \n",
      "663954   2015-03-02 11:25:48         ads-bing     web          windows     0   \n",
      "54946    2015-03-02 15:52:09     seo_facebook  mobile          android     1   \n",
      "102492   2015-03-02 17:12:37       seo-google  mobile              iOS     0   \n",
      "336883   2015-03-02 13:54:13     seo_facebook     web          windows     1   \n",
      "695470   2015-03-02 02:37:47       ads-google     web          windows     1   \n",
      "741933   2015-03-02 03:37:38       ads-google     web          windows     0   \n",
      "109764   2015-03-02 20:09:48     ads_facebook  mobile              iOS     0   \n",
      "421296   2015-03-02 07:55:45        seo-yahoo  mobile            other     1   \n",
      "61868    2015-03-02 17:12:37       seo-google  mobile              iOS     0   \n",
      "468614   2015-03-02 12:49:26       ads-google     web          windows     0   \n",
      "398045   2015-03-02 09:49:37       ads-google     web          windows     0   \n",
      "108307   2015-03-02 16:02:05        seo-other  mobile              iOS     1   \n",
      "298510   2015-03-02 09:23:18   direct_traffic  mobile          android     1   \n",
      "927086   2015-03-02 12:56:18     seo_facebook  mobile              iOS     0   \n",
      "...                      ...              ...     ...              ...   ...   \n",
      "579648   2015-05-31 14:24:36   direct_traffic  mobile          android     0   \n",
      "941833   2015-05-31 17:55:46        ads_other  mobile          android     0   \n",
      "402656   2015-05-31 07:16:32     seo_facebook     web          windows     1   \n",
      "587746   2015-05-31 07:53:18       ads-google     web              mac     0   \n",
      "12223    2015-05-31 13:58:53   direct_traffic  mobile            other     1   \n",
      "817213   2015-05-31 12:10:05   direct_traffic  mobile              iOS     0   \n",
      "701973   2015-05-31 11:09:17       ads-google  mobile              iOS     0   \n",
      "669295   2015-05-31 11:54:46        ads_other     web          windows     0   \n",
      "660386   2015-05-31 20:55:07     ads_facebook  mobile              iOS     0   \n",
      "751172   2015-05-31 08:13:03     seo_facebook     web          windows     0   \n",
      "261682   2015-05-31 17:01:17       ads-google     web          windows     0   \n",
      "271684   2015-05-31 08:01:52   direct_traffic  mobile            other     0   \n",
      "264470   2015-05-31 09:21:12        ads_other  mobile          android     0   \n",
      "127701   2015-05-31 19:58:29   direct_traffic  mobile              iOS     1   \n",
      "359740   2015-05-31 02:54:55   direct_traffic  mobile          android     1   \n",
      "717830   2015-05-31 17:09:14        ads_other     web          windows     1   \n",
      "64100    2015-05-31 12:04:48     ads_facebook     web          windows     0   \n",
      "662146   2015-05-31 12:43:57       ads-google     web          windows     0   \n",
      "470384   2015-05-31 14:15:15     ads_facebook     web          windows     1   \n",
      "498010   2015-05-31 08:34:16   direct_traffic  mobile              iOS     1   \n",
      "394012   2015-05-31 12:33:21     ads_facebook  mobile          android     0   \n",
      "189905   2015-05-31 14:60:53     seo_facebook  mobile          android     0   \n",
      "766125   2015-05-31 17:01:17       ads-google     web          windows     0   \n",
      "695912   2015-05-31 09:09:41     ads_facebook  mobile              iOS     0   \n",
      "114255   2015-05-31 10:28:27   direct_traffic  mobile              iOS     0   \n",
      "701721   2015-05-31 17:27:19       ads-google  mobile              iOS     0   \n",
      "62661    2015-05-31 12:13:59     ads_facebook  mobile          android     0   \n",
      "539175   2015-05-31 14:03:11   direct_traffic  mobile          android     0   \n",
      "887910   2015-05-31 08:47:04       ads-google  mobile              iOS     1   \n",
      "246416   2015-05-31 19:32:48   direct_traffic  mobile              iOS     1   \n",
      "\n",
      "         price  converted       date  profit  \n",
      "user_id                                       \n",
      "74510       39          0 2015-03-02       0  \n",
      "927072      39          0 2015-03-02       0  \n",
      "975825      39          0 2015-03-02       0  \n",
      "99231       59          0 2015-03-02       0  \n",
      "234962      59          0 2015-03-02       0  \n",
      "207085      39          0 2015-03-02       0  \n",
      "858827      39          0 2015-03-02       0  \n",
      "443342      39          0 2015-03-02       0  \n",
      "350715      39          0 2015-03-02       0  \n",
      "892440      59          0 2015-03-02       0  \n",
      "565004      39          1 2015-03-02      39  \n",
      "226295      39          0 2015-03-02       0  \n",
      "636844      59          0 2015-03-02       0  \n",
      "922037      39          0 2015-03-02       0  \n",
      "571106      39          0 2015-03-02       0  \n",
      "709404      39          0 2015-03-02       0  \n",
      "663954      39          0 2015-03-02       0  \n",
      "54946       59          0 2015-03-02       0  \n",
      "102492      39          0 2015-03-02       0  \n",
      "336883      59          0 2015-03-02       0  \n",
      "695470      59          0 2015-03-02       0  \n",
      "741933      39          0 2015-03-02       0  \n",
      "109764      39          0 2015-03-02       0  \n",
      "421296      59          0 2015-03-02       0  \n",
      "61868       39          0 2015-03-02       0  \n",
      "468614      39          0 2015-03-02       0  \n",
      "398045      39          0 2015-03-02       0  \n",
      "108307      59          0 2015-03-02       0  \n",
      "298510      59          0 2015-03-02       0  \n",
      "927086      39          0 2015-03-02       0  \n",
      "...        ...        ...        ...     ...  \n",
      "579648      39          0 2015-05-31       0  \n",
      "941833      39          0 2015-05-31       0  \n",
      "402656      59          0 2015-05-31       0  \n",
      "587746      39          0 2015-05-31       0  \n",
      "12223       59          0 2015-05-31       0  \n",
      "817213      39          0 2015-05-31       0  \n",
      "701973      39          0 2015-05-31       0  \n",
      "669295      39          0 2015-05-31       0  \n",
      "660386      39          0 2015-05-31       0  \n",
      "751172      39          0 2015-05-31       0  \n",
      "261682      39          0 2015-05-31       0  \n",
      "271684      39          0 2015-05-31       0  \n",
      "264470      39          0 2015-05-31       0  \n",
      "127701      59          0 2015-05-31       0  \n",
      "359740      59          0 2015-05-31       0  \n",
      "717830      59          0 2015-05-31       0  \n",
      "64100       39          0 2015-05-31       0  \n",
      "662146      39          0 2015-05-31       0  \n",
      "470384      59          0 2015-05-31       0  \n",
      "498010      59          0 2015-05-31       0  \n",
      "394012      39          0 2015-05-31       0  \n",
      "189905      39          0 2015-05-31       0  \n",
      "766125      39          0 2015-05-31       0  \n",
      "695912      39          0 2015-05-31       0  \n",
      "114255      39          0 2015-05-31       0  \n",
      "701721      39          0 2015-05-31       0  \n",
      "62661       39          0 2015-05-31       0  \n",
      "539175      39          0 2015-05-31       0  \n",
      "887910      59          1 2015-05-31      59  \n",
      "246416      59          0 2015-05-31       0  \n",
      "\n",
      "[316435 rows x 9 columns]\n"
     ]
    }
   ],
   "source": [
    "# It would also be useful to look at the profit made rather than just the conversion binary\n",
    "test_results['profit'] = test_results['price'] * test_results['converted']\n",
    "\n",
    "print (test_results)"
   ]
  },
  {
   "cell_type": "code",
   "execution_count": 10,
   "metadata": {},
   "outputs": [
    {
     "name": "stdout",
     "output_type": "stream",
     "text": [
      "Profit per person in the 39 group = 0.7760829955016122\n",
      "Profit per person in the 59 group = 0.917747853719342\n"
     ]
    }
   ],
   "source": [
    "# Given that more people convert at a lower price (expected), we'll have to do some math to see which is the best price\n",
    "\n",
    "# For every 1 person that visited the site, 0.019899563987220825 people bought at $39; so, profit per person = \n",
    "rows_39 = test_results.loc[test_results.price == 39]\n",
    "print(\"Profit per person in the 39 group = %s\" % (39 * np.mean(rows_39.converted))) # 0.776 = profit per person\n",
    "\n",
    "# For every 1 person that visited the site, 0.01555504836812444 people bought at $59\n",
    "rows_59 = test_results.loc[test_results.price == 59]\n",
    "print(\"Profit per person in the 59 group = %s\" % (59 * np.mean(rows_59.converted))) # 0.918 = profit per person\n",
    "\n",
    "# If we want to know whether the new price is profitable, we need to have a hypothesis test that the profit is equal\n"
   ]
  },
  {
   "cell_type": "code",
   "execution_count": 63,
   "metadata": {},
   "outputs": [
    {
     "name": "stdout",
     "output_type": "stream",
     "text": [
      "                   timestamp        source  device operative_system  test  \\\n",
      "user_id                                                                     \n",
      "74510    2015-03-02 09:56:56    ads-google  mobile              iOS     0   \n",
      "109764   2015-03-02 20:09:48  ads_facebook  mobile              iOS     0   \n",
      "927072   2015-03-02 09:49:37    ads-google     web          windows     0   \n",
      "975825   2015-03-02 12:20:16      ads-bing  mobile          android     0   \n",
      "99231    2015-03-02 10:33:11      ads-bing     web              mac     1   \n",
      "\n",
      "         price  converted       date  \n",
      "user_id                               \n",
      "74510       39          0 2015-03-02  \n",
      "109764      39          0 2015-03-02  \n",
      "927072      39          0 2015-03-02  \n",
      "975825      39          0 2015-03-02  \n",
      "99231       59          0 2015-03-02  \n"
     ]
    }
   ],
   "source": [
    "# test cell\n",
    "test_results = test_results.sort_values(by='date')\n",
    "print(test_results[:5])"
   ]
  },
  {
   "cell_type": "code",
   "execution_count": 11,
   "metadata": {
    "collapsed": true
   },
   "outputs": [],
   "source": [
    "def t_test_duration(inputs_39, inputs_59, print_vals):\n",
    "    profits_39 = [x * 39 for x in inputs_39]\n",
    "    profits_59 = [x * 59 for x in inputs_59]\n",
    "#    profits_39 = inputs_39\n",
    "#    profits_59 = inputs_59\n",
    "    p_val = stats.ttest_ind(profits_39, profits_59, axis=0, equal_var=True, nan_policy='propagate')\n",
    "    if (print_vals == True):\n",
    "        print(p_val)\n",
    "    \n",
    "    return p_val"
   ]
  },
  {
   "cell_type": "code",
   "execution_count": 79,
   "metadata": {},
   "outputs": [
    {
     "name": "stdout",
     "output_type": "stream",
     "text": [
      "Ttest_indResult(statistic=8.744781828681587, pvalue=2.2450851601497147e-18)\n"
     ]
    },
    {
     "data": {
      "text/plain": [
       "Ttest_indResult(statistic=8.744781828681587, pvalue=2.2450851601497147e-18)"
      ]
     },
     "execution_count": 79,
     "metadata": {},
     "output_type": "execute_result"
    }
   ],
   "source": [
    "# test cell\n",
    "t_test_duration(rows_39['converted'], rows_59['converted'])"
   ]
  },
  {
   "cell_type": "code",
   "execution_count": 39,
   "metadata": {},
   "outputs": [
    {
     "name": "stdout",
     "output_type": "stream",
     "text": [
      "      days   means39   means59         pvals  stdevs39  stdevs59\n",
      "0   0 days  0.694362  0.918685  8.900784e-02  5.157323  7.304686\n",
      "0   1 days  0.788491  0.765571  1.885445e-01  5.489030  6.677019\n",
      "0   2 days  0.906977  0.766234  2.901827e-01  5.877881  6.679871\n",
      "0   3 days  0.948354  0.996622  6.377728e-03  6.007198  7.603119\n",
      "0   4 days  0.834901  0.986697  3.766467e-06  5.644828  7.565815\n",
      "0   5 days  0.829723  1.041978  1.217158e-09  5.627676  7.771164\n",
      "0   6 days  0.825489  1.025122  5.111421e-11  5.613613  7.709170\n",
      "0   7 days  0.832539  1.030649  1.454277e-11  5.637013  7.729555\n",
      "0   8 days  0.832337  1.016738  1.196656e-11  5.636344  7.678136\n",
      "0   9 days  0.822296  1.020800  1.129813e-12  5.602977  7.693189\n",
      "0  10 days  0.808003  1.006146  1.031662e-13  5.555111  7.638736\n",
      "0  11 days  0.776089  0.976150  2.290511e-16  5.446571  7.525952\n",
      "0  12 days  0.760231  0.985240  5.122508e-20  5.391759  7.560321\n",
      "0  13 days  0.760643  0.981030  2.316044e-21  5.393189  7.544424\n",
      "0  14 days  0.774283  0.970977  2.229904e-20  5.440362  7.506322\n",
      "0  15 days  0.776306  0.953929  1.218197e-19  5.447317  7.441223\n",
      "0  16 days  0.772807  0.944322  1.086413e-19  5.435277  7.404273\n",
      "0  17 days  0.771775  0.952945  2.331633e-21  5.431720  7.437450\n",
      "0  18 days  0.760990  0.948922  2.241128e-24  5.394394  7.421990\n",
      "0  19 days  0.762710  0.968856  3.534691e-28  5.400366  7.498255\n",
      "0  20 days  0.766652  0.971786  9.737339e-30  5.414025  7.509394\n",
      "0  21 days  0.763943  0.971084  1.730992e-30  5.404645  7.506729\n",
      "0  22 days  0.765921  0.975529  2.546233e-31  5.411496  7.523600\n",
      "0  23 days  0.766462  0.971351  1.961461e-31  5.413369  7.507740\n",
      "0  24 days  0.761009  0.953523  4.002763e-31  5.394460  7.439667\n",
      "0  25 days  0.765223  0.953539  3.220914e-33  5.409078  7.439729\n",
      "0  26 days  0.767185  0.948108  2.343096e-34  5.415871  7.418858\n",
      "0  27 days  0.763947  0.958508  1.367816e-37  5.404657  7.458768\n",
      "0  28 days  0.762365  0.954262  9.457127e-38  5.399171  7.442502\n",
      "0  29 days  0.765372  0.954986  5.650050e-38  5.409596  7.445280\n",
      "..     ...       ...       ...           ...       ...       ...\n",
      "0  61 days  0.779604  0.920968  3.072497e-66  5.458643  7.313613\n",
      "0  62 days  0.780666  0.912020  7.819043e-65  5.462281  7.278558\n",
      "0  63 days  0.780474  0.912287  2.229707e-65  5.461624  7.279606\n",
      "0  64 days  0.779038  0.909657  1.831695e-65  5.456700  7.269272\n",
      "0  65 days  0.780565  0.908189  4.170433e-65  5.461936  7.263495\n",
      "0  66 days  0.779882  0.906120  1.680680e-65  5.459596  7.255344\n",
      "0  67 days  0.780650  0.906449  2.252786e-67  5.462229  7.256642\n",
      "0  68 days  0.775369  0.910043  2.065190e-71  5.444098  7.270789\n",
      "0  69 days  0.775660  0.909432  2.120691e-72  5.445099  7.268386\n",
      "0  70 days  0.775303  0.907497  2.532987e-72  5.443869  7.260769\n",
      "0  71 days  0.775489  0.905585  4.066819e-72  5.444510  7.253236\n",
      "0  72 days  0.774242  0.904356  1.718919e-72  5.440220  7.248391\n",
      "0  73 days  0.773539  0.903952  2.422107e-73  5.437800  7.246794\n",
      "0  74 days  0.773631  0.908055  1.081333e-76  5.438116  7.262965\n",
      "0  75 days  0.775352  0.910261  1.518166e-78  5.444037  7.271646\n",
      "0  76 days  0.779411  0.909258  2.783485e-78  5.457979  7.267701\n",
      "0  77 days  0.778233  0.910225  2.264753e-79  5.453936  7.271503\n",
      "0  78 days  0.775597  0.909119  3.253619e-80  5.444883  7.267153\n",
      "0  79 days  0.774257  0.906923  2.964074e-80  5.440270  7.258508\n",
      "0  80 days  0.775402  0.906179  1.946228e-80  5.444212  7.255577\n",
      "0  81 days  0.775306  0.905851  2.543905e-82  5.443880  7.254284\n",
      "0  82 days  0.775025  0.905589  5.767082e-84  5.442913  7.253253\n",
      "0  83 days  0.773402  0.904905  2.063534e-85  5.437327  7.250553\n",
      "0  84 days  0.774602  0.902660  1.276082e-84  5.441459  7.241693\n",
      "0  85 days  0.776044  0.905216  1.610568e-85  5.446420  7.251782\n",
      "0  86 days  0.777192  0.907599  2.118044e-86  5.450364  7.261170\n",
      "0  87 days  0.776440  0.913714  9.302434e-90  5.447780  7.285209\n",
      "0  88 days  0.776313  0.914011  6.005448e-92  5.447344  7.286375\n",
      "0  89 days  0.773786  0.914977  6.994868e-95  5.438651  7.290162\n",
      "0  90 days  0.776083  0.917748  1.946792e-96  5.446552  7.301018\n",
      "\n",
      "[91 rows x 6 columns]\n"
     ]
    }
   ],
   "source": [
    "# Let's see at what point the test could have been stopped with statistically significant results\n",
    "test_results = test_results.sort_values(by='date')\n",
    "start_date = min(test_results.date)\n",
    "\n",
    "results_table = pd.DataFrame(index=[], columns=['days', 'means39', 'means59', 'stdevs39', 'stdevs59', 'pvals'])\n",
    "\n",
    "for uq_date in test_results.date.unique():\n",
    "    rows_in_range = test_results[test_results.date <= uq_date]\n",
    "    in_range_39 = rows_in_range.loc[rows_in_range.price == 39]\n",
    "    in_range_59 = rows_in_range.loc[rows_in_range.price == 59]\n",
    "    \n",
    "    date = rows_in_range['date'].iloc[-1] # completely insane that I can't get this from uq_date, which is a datetime64 for some stupid reason\n",
    "\n",
    "    days = date - start_date\n",
    "    p_val = t_test_duration(in_range_39['profit'], in_range_59['profit'], False)\n",
    "    results_table = pd.concat([results_table, \n",
    "                               pd.DataFrame({'days': [days], 'means39': [np.mean(in_range_39['profit'])], \n",
    "                                             'means59': [np.mean(in_range_59['profit'])],\n",
    "                                             'stdevs39': [np.std(in_range_39['profit'])], \n",
    "                                             'stdevs59': [np.std(in_range_59['profit'])], 'pvals': [p_val[1]]})])\n",
    "print(results_table)\n",
    "\n",
    "# Though note we'll have to use a Bonferroni or some other correction for multiple tests\n"
   ]
  },
  {
   "cell_type": "code",
   "execution_count": 33,
   "metadata": {},
   "outputs": [
    {
     "data": {
      "image/png": "[encoded data removed]",
      "text/plain": [
       "<matplotlib.figure.Figure at 0x11d4546d8>"
      ]
     },
     "metadata": {},
     "output_type": "display_data"
    }
   ],
   "source": [
    "# Now we can visualize this difference for certain days\n",
    "day = 89\n",
    "plt.clf()\n",
    "mu1 = results_table['means39'].iloc[day]\n",
    "mu2 = results_table['means59'].iloc[day]\n",
    "stdev11 = results_table['stdevs39'].iloc[day]\n",
    "stdev12 = results_table['stdevs59'].iloc[day]\n",
    "\n",
    "x = np.linspace(0,2, 100)\n",
    "plt.plot(x,mlab.normpdf(x, mu1, math.sqrt(variance1)))\n",
    "plt.plot(x,mlab.normpdf(x, mu2, math.sqrt(variance2)))\n",
    "\n",
    "plt.ylabel('Probability density')\n",
    "plt.xlabel('Average profit per visitor (days 0 to %s)' % day)\n",
    "\n",
    "plt.show()\n"
   ]
  },
  {
   "cell_type": "code",
   "execution_count": 58,
   "metadata": {},
   "outputs": [
    {
     "name": "stdout",
     "output_type": "stream",
     "text": [
      "   day  one_tailed_pvals   bonf_05  alpha_05   bonf_01  alpha_01\n",
      "0    0      4.450392e-02  0.050000      True  0.010000     False\n",
      "0    1      9.427227e-02  0.025000     False  0.005000     False\n",
      "0    2      1.450913e-01  0.016667     False  0.003333     False\n",
      "0    3      3.188864e-03  0.012500      True  0.002500     False\n",
      "0    4      1.883233e-06  0.010000      True  0.002000      True\n",
      "0    5      6.085789e-10  0.008333      True  0.001667      True\n",
      "0    6      2.555711e-11  0.007143      True  0.001429      True\n",
      "0    7      7.271384e-12  0.006250      True  0.001250      True\n",
      "0    8      5.983282e-12  0.005556      True  0.001111      True\n",
      "0    9      5.649064e-13  0.005000      True  0.001000      True\n"
     ]
    }
   ],
   "source": [
    "# Let's do the actual calculation about when to stop, for alpha values of .05 and .01\n",
    "finished_calc = pd.DataFrame(index=[], columns=['day'])\n",
    "#finished_calc['day'] = results_table['days'].astype('timedelta64[D]')\n",
    "finished_calc['day'] = results_table['days'].dt.days\n",
    "\n",
    "finished_calc['one_tailed_pvals'] = results_table['pvals'] / 2 # assume we knew the higher price would be better\n",
    "#finished_calc['alpha_05'] = finished_calc[finished_calc['one_tailed_pvals'] < .05]\n",
    "finished_calc['bonf_05'] = .05\n",
    "finished_calc['bonf_05'] = finished_calc['bonf_05'] / (finished_calc['day'] + 1)\n",
    "#finished_calc['alpha_05'] = finished_calc['one_tailed_pvals'].map(lambda x: x < (.05 / (finished_calc['day'] + 1)))\n",
    "finished_calc['alpha_05'] = np.where((finished_calc['one_tailed_pvals'] < \n",
    "                                      finished_calc['bonf_05']), True, False)\n",
    "finished_calc['bonf_01'] = .01\n",
    "finished_calc['bonf_01'] = finished_calc['bonf_01'] / (finished_calc['day'] + 1)\n",
    "#finished_calc['alpha_05'] = finished_calc['one_tailed_pvals'].map(lambda x: x < (.05 / (finished_calc['day'] + 1)))\n",
    "finished_calc['alpha_01'] = np.where((finished_calc['one_tailed_pvals'] < \n",
    "                                      finished_calc['bonf_01']), True, False)\n",
    "\n",
    "\n",
    "print(finished_calc[:10])"
   ]
  },
  {
   "cell_type": "code",
   "execution_count": 71,
   "metadata": {},
   "outputs": [
    {
     "name": "stdout",
     "output_type": "stream",
     "text": [
      "Price 39: mean profit from google ads: 0.164460267533\n",
      "Price 39: mean profit from facebook ads: 0.0\n",
      "Price 39: mean profit from yahoo ads: 0.0155986904803\n",
      "Price 39: mean profit from bing ads: 0.0375524030081\n",
      "Price 39: mean profit from other ads: 0.0\n",
      "Price 39: mean profit from google seo: 0.0508401763803\n",
      "Price 39: mean profit from facebook seo: 0.0\n",
      "Price 39: mean profit from yahoo seo: 0.016368996183\n",
      "Price 39: mean profit from bing seo: 0.00770305702731\n",
      "Price 39: mean profit from other seo: 0.0198353718453\n",
      "Price 39: mean profit from direct traffic: 0.100717470632\n",
      "Price 39: mean profit from friend referral: 0.105339304848\n",
      "\n",
      "Price 59: mean profit from google ads: 0.218560719114\n",
      "Price 59: mean profit from facebook ads: 0.0\n",
      "Price 59: mean profit from yahoo ads: 0.0160554082761\n",
      "Price 59: mean profit from bing ads: 0.0409153952843\n",
      "Price 59: mean profit from other ads: 0.0\n",
      "Price 59: mean profit from google seo: 0.0668112150845\n",
      "Price 59: mean profit from facebook seo: 0.0\n",
      "Price 59: mean profit from yahoo seo: 0.0134658262961\n",
      "Price 59: mean profit from bing seo: 0.00569708035605\n",
      "Price 59: mean profit from other seo: 0.0217524886322\n",
      "Price 59: mean profit from direct traffic: 0.112905774329\n",
      "Price 59: mean profit from friend referral: 0.131032848189\n"
     ]
    }
   ],
   "source": [
    "# Let's ensure this was a fair test - means for various subgroups should be similar\n",
    "\n",
    "test_results_39 = test_results[test_results['price'] == 39]\n",
    "\n",
    "subgroups_39 = pd.DataFrame(index=[], columns=['source'])\n",
    "\n",
    "subgroups_39['source'] = test_results_39['source']\n",
    "subgroups_39['profit'] = test_results_39['profit']\n",
    "subgroups_39['prof_ads-g'] = test_results_39['source'].map(lambda x: x == 'ads-google')\n",
    "subgroups_39['prof_ads-g'] = subgroups_39['prof_ads-g'] * subgroups_39['profit']\n",
    "subgroups_39['prof_ads-f'] = test_results_39['source'].map(lambda x: x == 'ads-facebook')\n",
    "subgroups_39['prof_ads-f'] = subgroups_39['prof_ads-f'] * subgroups_39['profit']\n",
    "subgroups_39['prof_ads-b'] = test_results_39['source'].map(lambda x: x == 'ads-bing')\n",
    "subgroups_39['prof_ads-b'] = subgroups_39['prof_ads-b'] * subgroups_39['profit']\n",
    "subgroups_39['prof_ads-y'] = test_results_39['source'].map(lambda x: x == 'ads-yahoo')\n",
    "subgroups_39['prof_ads-y'] = subgroups_39['prof_ads-y'] * subgroups_39['profit']\n",
    "subgroups_39['prof_ads-o'] = test_results_39['source'].map(lambda x: x == 'ads-other')\n",
    "subgroups_39['prof_ads-o'] = subgroups_39['prof_ads-o'] * subgroups_39['profit']\n",
    "\n",
    "subgroups_39['prof_seo-g'] = test_results_39['source'].map(lambda x: x == 'seo-google')\n",
    "subgroups_39['prof_seo-g'] = subgroups_39['prof_seo-g'] * subgroups_39['profit']\n",
    "subgroups_39['prof_seo-f'] = test_results_39['source'].map(lambda x: x == 'seo-facebook')\n",
    "subgroups_39['prof_seo-f'] = subgroups_39['prof_seo-f'] * subgroups_39['profit']\n",
    "subgroups_39['prof_seo-b'] = test_results_39['source'].map(lambda x: x == 'seo-bing')\n",
    "subgroups_39['prof_seo-b'] = subgroups_39['prof_seo-b'] * subgroups_39['profit']\n",
    "subgroups_39['prof_seo-y'] = test_results_39['source'].map(lambda x: x == 'seo-yahoo')\n",
    "subgroups_39['prof_seo-y'] = subgroups_39['prof_seo-y'] * subgroups_39['profit']\n",
    "subgroups_39['prof_seo-o'] = test_results_39['source'].map(lambda x: x == 'seo-other')\n",
    "subgroups_39['prof_seo-o'] = subgroups_39['prof_seo-o'] * subgroups_39['profit']\n",
    "\n",
    "subgroups_39['prof_direct'] = test_results_39['source'].map(lambda x: x == 'direct_traffic')\n",
    "subgroups_39['prof_direct'] = subgroups_39['prof_direct'] * subgroups_39['profit']\n",
    "subgroups_39['prof_friend'] = test_results_39['source'].map(lambda x: x == 'friend_referral')\n",
    "subgroups_39['prof_friend'] = subgroups_39['prof_friend'] * subgroups_39['profit']\n",
    "\n",
    "\n",
    "\n",
    "\n",
    "\n",
    "\n",
    "\n",
    "\n",
    "test_results_59 = test_results[test_results['price'] == 59]\n",
    "\n",
    "subgroups_59 = pd.DataFrame(index=[], columns=['source'])\n",
    "\n",
    "subgroups_59['source'] = test_results_59['source']\n",
    "subgroups_59['profit'] = test_results_59['profit']\n",
    "subgroups_59['prof_ads-g'] = test_results_59['source'].map(lambda x: x == 'ads-google')\n",
    "subgroups_59['prof_ads-g'] = subgroups_59['prof_ads-g'] * subgroups_59['profit']\n",
    "subgroups_59['prof_ads-f'] = test_results_59['source'].map(lambda x: x == 'ads-facebook')\n",
    "subgroups_59['prof_ads-f'] = subgroups_59['prof_ads-f'] * subgroups_59['profit']\n",
    "subgroups_59['prof_ads-b'] = test_results_59['source'].map(lambda x: x == 'ads-bing')\n",
    "subgroups_59['prof_ads-b'] = subgroups_59['prof_ads-b'] * subgroups_59['profit']\n",
    "subgroups_59['prof_ads-y'] = test_results_59['source'].map(lambda x: x == 'ads-yahoo')\n",
    "subgroups_59['prof_ads-y'] = subgroups_59['prof_ads-y'] * subgroups_59['profit']\n",
    "subgroups_59['prof_ads-o'] = test_results_59['source'].map(lambda x: x == 'ads-other')\n",
    "subgroups_59['prof_ads-o'] = subgroups_59['prof_ads-o'] * subgroups_59['profit']\n",
    "\n",
    "subgroups_59['prof_seo-g'] = test_results_59['source'].map(lambda x: x == 'seo-google')\n",
    "subgroups_59['prof_seo-g'] = subgroups_59['prof_seo-g'] * subgroups_59['profit']\n",
    "subgroups_59['prof_seo-f'] = test_results_59['source'].map(lambda x: x == 'seo-facebook')\n",
    "subgroups_59['prof_seo-f'] = subgroups_59['prof_seo-f'] * subgroups_59['profit']\n",
    "subgroups_59['prof_seo-b'] = test_results_59['source'].map(lambda x: x == 'seo-bing')\n",
    "subgroups_59['prof_seo-b'] = subgroups_59['prof_seo-b'] * subgroups_59['profit']\n",
    "subgroups_59['prof_seo-y'] = test_results_59['source'].map(lambda x: x == 'seo-yahoo')\n",
    "subgroups_59['prof_seo-y'] = subgroups_59['prof_seo-y'] * subgroups_59['profit']\n",
    "subgroups_59['prof_seo-o'] = test_results_59['source'].map(lambda x: x == 'seo-other')\n",
    "subgroups_59['prof_seo-o'] = subgroups_59['prof_seo-o'] * subgroups_59['profit']\n",
    "\n",
    "subgroups_59['prof_direct'] = test_results_59['source'].map(lambda x: x == 'direct_traffic')\n",
    "subgroups_59['prof_direct'] = subgroups_59['prof_direct'] * subgroups_59['profit']\n",
    "subgroups_59['prof_friend'] = test_results_59['source'].map(lambda x: x == 'friend_referral')\n",
    "subgroups_59['prof_friend'] = subgroups_59['prof_friend'] * subgroups_59['profit']\n",
    "\n",
    "\n",
    "\n",
    "\n",
    "print('Price 39: mean profit from google ads: %s' % np.mean(subgroups_39['prof_ads-g']))\n",
    "print('Price 39: mean profit from facebook ads: %s' % np.mean(subgroups_39['prof_ads-f']))\n",
    "print('Price 39: mean profit from yahoo ads: %s' % np.mean(subgroups_39['prof_ads-y']))\n",
    "print('Price 39: mean profit from bing ads: %s' % np.mean(subgroups_39['prof_ads-b']))\n",
    "print('Price 39: mean profit from other ads: %s' % np.mean(subgroups_39['prof_ads-o']))\n",
    "\n",
    "print('Price 39: mean profit from google seo: %s' % np.mean(subgroups_39['prof_seo-g']))\n",
    "print('Price 39: mean profit from facebook seo: %s' % np.mean(subgroups_39['prof_seo-f']))\n",
    "print('Price 39: mean profit from yahoo seo: %s' % np.mean(subgroups_39['prof_seo-y']))\n",
    "print('Price 39: mean profit from bing seo: %s' % np.mean(subgroups_39['prof_seo-b']))\n",
    "print('Price 39: mean profit from other seo: %s' % np.mean(subgroups_39['prof_seo-o']))\n",
    "\n",
    "print('Price 39: mean profit from direct traffic: %s' % np.mean(subgroups_39['prof_direct']))\n",
    "print('Price 39: mean profit from friend referral: %s' % np.mean(subgroups_39['prof_friend']))\n",
    "\n",
    "print('') # line break\n",
    "\n",
    "print('Price 59: mean profit from google ads: %s' % np.mean(subgroups_59['prof_ads-g']))\n",
    "print('Price 59: mean profit from facebook ads: %s' % np.mean(subgroups_59['prof_ads-f']))\n",
    "print('Price 59: mean profit from yahoo ads: %s' % np.mean(subgroups_59['prof_ads-y']))\n",
    "print('Price 59: mean profit from bing ads: %s' % np.mean(subgroups_59['prof_ads-b']))\n",
    "print('Price 59: mean profit from other ads: %s' % np.mean(subgroups_59['prof_ads-o']))\n",
    "\n",
    "print('Price 59: mean profit from google seo: %s' % np.mean(subgroups_59['prof_seo-g']))\n",
    "print('Price 59: mean profit from facebook seo: %s' % np.mean(subgroups_59['prof_seo-f']))\n",
    "print('Price 59: mean profit from yahoo seo: %s' % np.mean(subgroups_59['prof_seo-y']))\n",
    "print('Price 59: mean profit from bing seo: %s' % np.mean(subgroups_59['prof_seo-b']))\n",
    "print('Price 59: mean profit from other seo: %s' % np.mean(subgroups_59['prof_seo-o']))\n",
    "\n",
    "print('Price 59: mean profit from direct traffic: %s' % np.mean(subgroups_59['prof_direct']))\n",
    "print('Price 59: mean profit from friend referral: %s' % np.mean(subgroups_59['prof_friend']))\n",
    "\n",
    "\n",
    "\n",
    "\n",
    "#print(subgroups_59)\n",
    "\n"
   ]
  },
  {
   "cell_type": "code",
   "execution_count": 70,
   "metadata": {},
   "outputs": [
    {
     "name": "stdout",
     "output_type": "stream",
     "text": [
      "Total FB ads = 0. Total FB seo = 0. Total Other ads = 0.\n"
     ]
    }
   ],
   "source": [
    "# Interesting... zero profit from facebook ads or seo, zero profit from other ads\n",
    "# Out of how many, I wonder?\n",
    "print('Total FB ads = %s. Total FB seo = %s. Total Other ads = %s.' % \n",
    "     (len(test_results[test_results['source'] == 'ads-facebook']), \n",
    "     len(test_results[test_results['source'] == 'seo-facebook']), \n",
    "     len(test_results[test_results['source'] == 'ads-other']) ))"
   ]
  },
  {
   "cell_type": "code",
   "execution_count": 72,
   "metadata": {},
   "outputs": [
    {
     "name": "stdout",
     "output_type": "stream",
     "text": [
      "Price 39: mean profit from mobile: 0.460642810233\n",
      "Price 39: mean profit from web: 0.315440185268\n",
      "Price 39: mean profit from windows: 0.228780793711\n",
      "Price 39: mean profit from linux: 0.00654759847321\n",
      "Price 39: mean profit from mac: 0.080111793084\n",
      "Price 39: mean profit from iOS: 0.280776428645\n",
      "Price 39: mean profit from android: 0.151557647012\n",
      "Price 39: mean profit from other: 0.0283087345754\n",
      "\n",
      "Price 59: mean profit from mobile: 0.551063045348\n",
      "Price 59: mean profit from web: 0.366684808371\n",
      "Price 59: mean profit from windows: 0.27087027511\n",
      "Price 59: mean profit from linux: 0.0\n",
      "Price 59: mean profit from mac: 0.0958145332608\n",
      "Price 59: mean profit from iOS: 0.347521901719\n",
      "Price 59: mean profit from android: 0.170912410681\n",
      "Price 59: mean profit from other: 0.0326287329483\n"
     ]
    }
   ],
   "source": [
    "# Anything interesting in the breakdown from device or OS?\n",
    "\n",
    "test_results_39 = test_results[test_results['price'] == 39]\n",
    "\n",
    "subgroups_39 = pd.DataFrame(index=[], columns=['source'])\n",
    "\n",
    "subgroups_39['source'] = test_results_39['source']\n",
    "subgroups_39['profit'] = test_results_39['profit']\n",
    "subgroups_39['prof_mobile'] = test_results_39['device'].map(lambda x: x == 'mobile')\n",
    "subgroups_39['prof_mobile'] = subgroups_39['prof_mobile'] * subgroups_39['profit']\n",
    "subgroups_39['prof_web'] = test_results_39['device'].map(lambda x: x == 'web')\n",
    "subgroups_39['prof_web'] = subgroups_39['prof_web'] * subgroups_39['profit']\n",
    "\n",
    "subgroups_39['prof_win'] = test_results_39['operative_system'].map(lambda x: x == 'windows')\n",
    "subgroups_39['prof_win'] = subgroups_39['prof_win'] * subgroups_39['profit']\n",
    "subgroups_39['prof_linux'] = test_results_39['operative_system'].map(lambda x: x == 'linux')\n",
    "subgroups_39['prof_linux'] = subgroups_39['prof_linux'] * subgroups_39['profit']\n",
    "subgroups_39['prof_mac'] = test_results_39['operative_system'].map(lambda x: x == 'mac')\n",
    "subgroups_39['prof_mac'] = subgroups_39['prof_mac'] * subgroups_39['profit']\n",
    "subgroups_39['prof_iOS'] = test_results_39['operative_system'].map(lambda x: x == 'iOS')\n",
    "subgroups_39['prof_iOS'] = subgroups_39['prof_iOS'] * subgroups_39['profit']\n",
    "subgroups_39['prof_android'] = test_results_39['operative_system'].map(lambda x: x == 'android')\n",
    "subgroups_39['prof_android'] = subgroups_39['prof_android'] * subgroups_39['profit']\n",
    "subgroups_39['prof_other'] = test_results_39['operative_system'].map(lambda x: x == 'other')\n",
    "subgroups_39['prof_other'] = subgroups_39['prof_other'] * subgroups_39['profit']\n",
    "\n",
    "\n",
    "\n",
    "\n",
    "\n",
    "\n",
    "\n",
    "test_results_59 = test_results[test_results['price'] == 59]\n",
    "\n",
    "subgroups_59 = pd.DataFrame(index=[], columns=['source'])\n",
    "\n",
    "subgroups_59['source'] = test_results_59['source']\n",
    "subgroups_59['profit'] = test_results_59['profit']\n",
    "\n",
    "subgroups_59['prof_mobile'] = test_results_59['device'].map(lambda x: x == 'mobile')\n",
    "subgroups_59['prof_mobile'] = subgroups_59['prof_mobile'] * subgroups_59['profit']\n",
    "subgroups_59['prof_web'] = test_results_59['device'].map(lambda x: x == 'web')\n",
    "subgroups_59['prof_web'] = subgroups_59['prof_web'] * subgroups_59['profit']\n",
    "\n",
    "subgroups_59['prof_win'] = test_results_59['operative_system'].map(lambda x: x == 'windows')\n",
    "subgroups_59['prof_win'] = subgroups_59['prof_win'] * subgroups_59['profit']\n",
    "subgroups_59['prof_linux'] = test_results_59['operative_system'].map(lambda x: x == 'linux')\n",
    "subgroups_59['prof_linux'] = subgroups_59['prof_linux'] * subgroups_59['profit']\n",
    "subgroups_59['prof_mac'] = test_results_59['operative_system'].map(lambda x: x == 'mac')\n",
    "subgroups_59['prof_mac'] = subgroups_59['prof_mac'] * subgroups_59['profit']\n",
    "subgroups_59['prof_iOS'] = test_results_59['operative_system'].map(lambda x: x == 'iOS')\n",
    "subgroups_59['prof_iOS'] = subgroups_59['prof_iOS'] * subgroups_59['profit']\n",
    "subgroups_59['prof_android'] = test_results_59['operative_system'].map(lambda x: x == 'android')\n",
    "subgroups_59['prof_android'] = subgroups_59['prof_android'] * subgroups_59['profit']\n",
    "subgroups_59['prof_other'] = test_results_59['operative_system'].map(lambda x: x == 'other')\n",
    "subgroups_59['prof_other'] = subgroups_59['prof_other'] * subgroups_59['profit']\n",
    "\n",
    "\n",
    "\n",
    "\n",
    "\n",
    "\n",
    "\n",
    "\n",
    "print('Price 39: mean profit from mobile: %s' % np.mean(subgroups_39['prof_mobile']))\n",
    "print('Price 39: mean profit from web: %s' % np.mean(subgroups_39['prof_web']))\n",
    "print('Price 39: mean profit from windows: %s' % np.mean(subgroups_39['prof_win']))\n",
    "print('Price 39: mean profit from linux: %s' % np.mean(subgroups_39['prof_linux']))\n",
    "print('Price 39: mean profit from mac: %s' % np.mean(subgroups_39['prof_mac']))\n",
    "print('Price 39: mean profit from iOS: %s' % np.mean(subgroups_39['prof_iOS']))\n",
    "print('Price 39: mean profit from android: %s' % np.mean(subgroups_39['prof_android']))\n",
    "print('Price 39: mean profit from other: %s' % np.mean(subgroups_39['prof_other']))\n",
    "\n",
    "print('') # line break\n",
    "\n",
    "print('Price 59: mean profit from mobile: %s' % np.mean(subgroups_59['prof_mobile']))\n",
    "print('Price 59: mean profit from web: %s' % np.mean(subgroups_59['prof_web']))\n",
    "print('Price 59: mean profit from windows: %s' % np.mean(subgroups_59['prof_win']))\n",
    "print('Price 59: mean profit from linux: %s' % np.mean(subgroups_59['prof_linux']))\n",
    "print('Price 59: mean profit from mac: %s' % np.mean(subgroups_59['prof_mac']))\n",
    "print('Price 59: mean profit from iOS: %s' % np.mean(subgroups_59['prof_iOS']))\n",
    "print('Price 59: mean profit from android: %s' % np.mean(subgroups_59['prof_android']))\n",
    "print('Price 59: mean profit from other: %s' % np.mean(subgroups_59['prof_other']))\n",
    "\n"
   ]
  },
  {
   "cell_type": "markdown",
   "metadata": {},
   "source": [
    "# Conclusions\n",
    "**1. Company XYZ should sell their product at \\$59, not \\$39.**<br>\n",
    "While the conversion rate is lower at the higher price (around 1.6%, as opposed to around 2% for the lower price), the number of visitors that the site receives each day means that XYZ is making an average profit of 92 cents per visitor in the high-price group, compared to 78 cents per visitor with the original price.<br><br>\n",
    "**2. The VP's intuition was correct: this test went on longer than it needed to.**<br>\n",
    "If you use a simple one-tailed t-test to determine whether the average profit per visitor is higher in the high-price group, you can tell within the first few days (depending on whether your alpha value is .05 or .01) that the profits are higher in the high-price group. Even with a strict correction method like Bonferroni, the high-price group comes out significantly more profitable within 5 days of testing.<br><br>\n",
    "**3. Other observations / recommendations based on the data**<br>\n",
    "A. Company XYZ had zero visitors from Facebook ads or SEO, or 'other' ads during this three months. If they're spending money on these, they should cancel them or change their strategy.<br>\n",
    "B. Google ads are driving more profit than direct traffic or even friend recommendations. Whatever XYZ is doing on Google, it's working.<br>\n",
    "C. This software makes virtually no profit from people using linux systems, and very little from those using macs. If XYZ's software is actually targeting these OSs, they're not doing a good job in these sectors.<br>\n",
    "D. There were around 350 people whose \"price\" didn't match their \"test\" status (test / control group). If this was generated automatically, there may be a bug in that code - we should check to see what price they actually paid.\n",
    "<br><br>\n",
    "\n",
    "\n",
    "\n"
   ]
  },
  {
   "cell_type": "markdown",
   "metadata": {
    "collapsed": true
   },
   "source": [
    "# Future work\n",
    "**1. If we care about the location of these subjects:**<br>\n",
    "We can check the geo-coordinates provided and make sure they match the cities that are listed. <br><br>\n",
    "**2. We can also sanity-check the OS:**<br>\n",
    "Theoretically, there are a set number of OSs depending on whether your device was \"mobile\" or \"web\". We could determine whether this was in fact the case, and look into erroneous data."
   ]
  },
  {
   "cell_type": "code",
   "execution_count": null,
   "metadata": {
    "collapsed": true
   },
   "outputs": [],
   "source": []
  }
 ],
 "metadata": {
  "kernelspec": {
   "display_name": "Python 3",
   "language": "python",
   "name": "python3"
  },
  "language_info": {
   "codemirror_mode": {
    "name": "ipython",
    "version": 3
   },
   "file_extension": ".py",
   "mimetype": "text/x-python",
   "name": "python",
   "nbconvert_exporter": "python",
   "pygments_lexer": "ipython3",
   "version": "3.6.1"
  }
 },
 "nbformat": 4,
 "nbformat_minor": 2
}
