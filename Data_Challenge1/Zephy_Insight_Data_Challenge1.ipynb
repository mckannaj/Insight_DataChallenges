{
 "cells": [
  {
   "cell_type": "markdown",
   "metadata": {},
   "source": [
    "## Data Challenge 1: Employee churn\n",
    "\n",
    "**This notebook is intended to explore employee churn for 12 companies.**<br>\n",
    "```It first loads the data from a csv, then creates a table of per-day employees for each company over the whole period in quesiton.``` <br><br>\n",
    "```It explores the data graphically and then implements survival analysis using a Cox Proportional Hazards model.```\n",
    "<br><br>\n",
    "```Finally, I make suggestions for decreasing employee turnover and more data collection that may help inform this problem in the future.```\n",
    "<br><br>\n"
   ]
  },
  {
   "cell_type": "code",
   "execution_count": 1,
   "metadata": {
    "collapsed": true
   },
   "outputs": [],
   "source": [
    "# it's not a huge amount of data; I can simply import it all as a dataframe\n",
    "import pandas as pd\n",
    "\n",
    "employee_data = pd.DataFrame.from_csv('/Users/z_home/zLearnPy/LeetCode_forGithub/Data_Challenge1/employee_retention_data.csv')"
   ]
  },
  {
   "cell_type": "code",
   "execution_count": 2,
   "metadata": {},
   "outputs": [],
   "source": [
    "# It will be useful to have a binary column that tells whether an employee left or not\n",
    "import numpy as np\n",
    "\n",
    "employee_data['left'] = employee_data['quit_date'].notnull()\n",
    "\n",
    "\n",
    "# Also, we should turn the current \"string\" dates into datetime fields\n",
    "from datetime import datetime\n",
    "\n",
    "employee_data['join'] = pd.to_datetime(employee_data['join_date'], format=\"%Y-%m-%d\")\n",
    "employee_data['quit'] = pd.to_datetime(employee_data['quit_date'], format=\"%Y-%m-%d\")\n",
    "\n",
    "# This allows us to have a \"duration of employement\" column as well\n",
    "employee_data['emp_duration'] = employee_data['quit'] - employee_data['join']\n",
    "employee_data['emp_duration'] = employee_data['emp_duration'].dt.days # convert TimeDelta to number\n"
   ]
  },
  {
   "cell_type": "markdown",
   "metadata": {},
   "source": [
    "## Create a table of number of people employed\n",
    "\n",
    "**From the data challenge text:**<br>\n",
    "```Assume, for each company, that the headcount starts from zero on 2011/01/23. Estimate employee headcount, for each company, on each day, from 2011/01/24 to 2015/12/13. That is, if by 2012/03/02 2000 people have joined company 1 and 1000 of them have already quit, then company headcount on 2012/03/02 for company 1 would be 1000. ```**You should create a table with 3 columns: day, employee_headcount, company_id.** <br><br>\n"
   ]
  },
  {
   "cell_type": "code",
   "execution_count": 3,
   "metadata": {},
   "outputs": [
    {
     "name": "stdout",
     "output_type": "stream",
     "text": [
      "    Company       Date  Employees\n",
      "4         5 2011-01-30          0\n",
      "5         6 2011-01-30          0\n",
      "6         7 2011-01-30          0\n",
      "7         8 2011-01-30          0\n",
      "8         9 2011-01-30          0\n",
      "9        10 2011-01-30          0\n",
      "10       11 2011-01-30          0\n",
      "11       12 2011-01-30          0\n",
      "0         1 2011-01-31         30\n",
      "1         2 2011-01-31         12\n",
      "2         3 2011-01-31          7\n",
      "3         4 2011-01-31          5\n",
      "4         5 2011-01-31          7\n",
      "5         6 2011-01-31          7\n",
      "6         7 2011-01-31          6\n"
     ]
    }
   ],
   "source": [
    "# Create the requested table\n",
    "from datetime import timedelta\n",
    "\n",
    "# we were told how long they were monitored; therefore, we have a max duration\n",
    "starting_date = datetime.strptime('2011/01/23', \"%Y/%m/%d\")\n",
    "max_duration = datetime.strptime('2015/12/13', \"%Y/%m/%d\") - starting_date\n",
    "\n",
    "init_date = [starting_date]*12\n",
    "#per_day_table = pd.DataFrame([init_date, list(range(12)), [0]*12], columns=['Date', 'Company', 'Employees'])\n",
    "per_day_table = pd.DataFrame({'Date': init_date, 'Company':list(range(1,13)), 'Employees':[0]*12})\n",
    "#print(per_day_table)\n",
    "\n",
    "for day_number in range(max_duration.days + 1): # doesn't cover the final date\n",
    "    cur_date = starting_date + timedelta(days=day_number)\n",
    "    add_to_table = pd.DataFrame({'Date': cur_date, 'Company':list(range(1,13)), 'Employees':[0]*12})\n",
    "#    print(starting_date + timedelta(days=day_number))\n",
    "    join_on_this_day = employee_data[employee_data['join'] == cur_date]\n",
    "    if (not join_on_this_day.empty):\n",
    "        for row in join_on_this_day.itertuples():\n",
    "            add_to_table.loc[add_to_table.Company == row.company_id, 'Employees'] += 1\n",
    "    quit_on_this_day = employee_data[employee_data['quit'] == cur_date]\n",
    "    if (not quit_on_this_day.empty):\n",
    "        for row in quit_on_this_day.itertuples():\n",
    "            add_to_table.loc[add_to_table.Company == row.company_id, 'Employees'] -= 1\n",
    "    per_day_table = pd.concat([per_day_table, add_to_table], axis=0)\n",
    "\n",
    "print(per_day_table.iloc[100:115,:]) # just to confirm that it looks as expected\n",
    "\n",
    "# Store the requested table in case we need it later\n",
    "per_day_table.to_csv('/Users/z_home/zLearnPy/LeetCode_forGithub/Data_Challenge1/employees_per_day.csv')"
   ]
  },
  {
   "cell_type": "markdown",
   "metadata": {},
   "source": [
    "## Explore the data\n",
    "\n",
    "**It may be useful to understand characteristics of the data visually.**<br>\n",
    "```When trying to figure out why people left a company (if they did) (with the data we have), it's important to understand the relationships between the data. Graphs can help.```<br><br>"
   ]
  },
  {
   "cell_type": "code",
   "execution_count": 4,
   "metadata": {},
   "outputs": [
    {
     "name": "stdout",
     "output_type": "stream",
     "text": [
      "1224 0.565359477124 0.495709732354\n",
      "2062 0.55916585839 0.496487060457\n",
      "4222 0.522501184273 0.499493440103\n",
      "961 0.550468262227 0.497446433808\n",
      "8486 0.544543954749 0.498011883488\n",
      "1291 0.55151045701 0.497339595064\n",
      "865 0.554913294798 0.496975381739\n",
      "1755 0.560113960114 0.496373157815\n",
      "2749 0.556929792652 0.496748425975\n",
      "1047 0.553008595989 0.497182148464\n",
      "16 0.75 0.433012701892\n",
      "24 0.5 0.5\n"
     ]
    },
    {
     "data": {
      "image/png": "[encoded data removed]",
      "text/plain": [
       "<matplotlib.figure.Figure at 0x10d1caef0>"
      ]
     },
     "metadata": {},
     "output_type": "display_data"
    }
   ],
   "source": [
    "import matplotlib.pyplot as plt\n",
    "\n",
    "# Let's see what the variation in retention rate looks like, per company\n",
    "plt.clf()\n",
    "for company in employee_data.company_id.unique():\n",
    "    comp_rows = employee_data.loc[employee_data['company_id']==company]\n",
    "    plt.errorbar(company, np.mean(comp_rows['left']), \n",
    "                 np.std(comp_rows['left']), linestyle='None', marker='^')\n",
    "    print(len(comp_rows), np.mean(comp_rows['left']), \n",
    "          np.std(comp_rows['left']))\n",
    "\n",
    "plt.show()\n"
   ]
  },
  {
   "cell_type": "code",
   "execution_count": 5,
   "metadata": {},
   "outputs": [
    {
     "name": "stdout",
     "output_type": "stream",
     "text": [
      "customer_service 9180 0.554901960784 0.49697663396\n",
      "marketing 3167 0.562993369119 0.496015962895\n",
      "data_science 3190 0.527272727273 0.499255644282\n",
      "engineer 4613 0.512031216128 0.49985522888\n",
      "sales 3172 0.570933165195 0.494942911936\n",
      "design 1380 0.563768115942 0.495916956142\n"
     ]
    },
    {
     "data": {
      "text/plain": [
       "<matplotlib.figure.Figure at 0x111b16ac8>"
      ]
     },
     "metadata": {},
     "output_type": "display_data"
    },
    {
     "data": {
      "image/png": "[encoded data removed]",
      "text/plain": [
       "<matplotlib.figure.Figure at 0x111b16c88>"
      ]
     },
     "metadata": {},
     "output_type": "display_data"
    }
   ],
   "source": [
    "# Let's see what the variation in retention rate looks like, per department\n",
    "plt.clf()\n",
    "depts = [''] # first tick is at zero, so make that one blank\n",
    "means = []\n",
    "stdevs = []\n",
    "for department in employee_data.dept.unique():\n",
    "    depts.append(department)\n",
    "    dept_rows = employee_data.loc[employee_data['dept']==department]\n",
    "    means.append(np.mean(dept_rows['left']))\n",
    "    stdevs.append(np.std(dept_rows['left']))\n",
    "    print(department, len(dept_rows), np.mean(dept_rows['left']), \n",
    "          np.std(dept_rows['left']))\n",
    "\n",
    "fig, ax = plt.subplots()\n",
    "bar_width = 0.35\n",
    "rects1 = ax.bar(np.arange(len(means)), means, bar_width, color='green', yerr=stdevs)\n",
    "ax.set_xticklabels(depts)\n",
    "                  \n",
    "plt.show()"
   ]
  },
  {
   "cell_type": "code",
   "execution_count": 6,
   "metadata": {},
   "outputs": [
    {
     "data": {
      "text/plain": [
       "<matplotlib.figure.Figure at 0x10e50ab38>"
      ]
     },
     "metadata": {},
     "output_type": "display_data"
    },
    {
     "data": {
      "image/png": "[encoded data removed]",
      "text/plain": [
       "<matplotlib.figure.Figure at 0x10e50a828>"
      ]
     },
     "metadata": {},
     "output_type": "display_data"
    }
   ],
   "source": [
    "# Let's see what the variation in retention rate looks like, per company+department\n",
    "plt.clf()\n",
    "fig, ax = plt.subplots(12,1)\n",
    "for idx, company in enumerate(employee_data.company_id.unique()):\n",
    "    depts = [''] # first tick is at zero, so make that one blank\n",
    "    means = []\n",
    "    stdevs = []\n",
    "\n",
    "    comp_rows = employee_data.loc[employee_data['company_id']==company]\n",
    "    for department in comp_rows.dept.unique():\n",
    "        depts.append(department)\n",
    "        dept_rows = employee_data.loc[employee_data['dept']==department]\n",
    "        means.append(np.mean(dept_rows['left']))\n",
    "        stdevs.append(np.std(dept_rows['left']))\n",
    "\n",
    "    bar_width = 0.35\n",
    "    rects1 = ax[idx].bar(np.arange(len(means)), means, bar_width, color='green', yerr=stdevs)\n",
    "    ax[idx].set_xticklabels(depts)\n",
    "                  \n",
    "plt.show()"
   ]
  },
  {
   "cell_type": "code",
   "execution_count": 7,
   "metadata": {},
   "outputs": [
    {
     "data": {
      "text/plain": [
       "<matplotlib.figure.Figure at 0x112049b38>"
      ]
     },
     "metadata": {},
     "output_type": "display_data"
    },
    {
     "data": {
      "image/png": "[encoded data removed]",
      "text/plain": [
       "<matplotlib.figure.Figure at 0x1119d7518>"
      ]
     },
     "metadata": {},
     "output_type": "display_data"
    }
   ],
   "source": [
    "# Let's try company+department in a more informative way\n",
    "import pylab\n",
    "\n",
    "dept_dict = {'customer_service': 1, 'marketing': 2, 'data_science': 3, \n",
    "             'engineer': 4, 'sales': 5, 'design': 6}\n",
    "\n",
    "plt.clf()\n",
    "\n",
    "fig = plt.figure()\n",
    "ax = fig.add_subplot(111)\n",
    "\n",
    "for idx, company in enumerate(employee_data.company_id.unique()):\n",
    "    xVals = []\n",
    "    yVals = []\n",
    "    comp_rows = employee_data.loc[employee_data['company_id']==company]\n",
    "    for department in comp_rows.dept.unique():\n",
    "        dept_rows = comp_rows.loc[comp_rows['dept']==department]\n",
    "        xVals.append(dept_dict[department])\n",
    "        yVals.append(np.mean(dept_rows['left']))\n",
    "    ax.scatter(xVals, yVals, color=(idx/12, 1-(idx/12), idx/12))\n",
    "\n",
    "pylab.ylim([0,1])\n",
    "plt.show()"
   ]
  },
  {
   "cell_type": "code",
   "execution_count": 20,
   "metadata": {},
   "outputs": [
    {
     "name": "stdout",
     "output_type": "stream",
     "text": [
      "customer_service 9180 82245.4248366013 31578.115022099213\n",
      "marketing 3167 135598.04231133565 52370.45094873777\n",
      "data_science 3190 206885.8934169279 78649.47525409248\n",
      "engineer 4613 205544.54801647516 78044.05490380139\n",
      "sales 3172 135912.35813366962 52328.063605671094\n",
      "design 1380 137460.86956521738 52368.17048936571\n"
     ]
    },
    {
     "data": {
      "text/plain": [
       "<matplotlib.figure.Figure at 0x114c15be0>"
      ]
     },
     "metadata": {},
     "output_type": "display_data"
    },
    {
     "data": {
      "image/png": "[encoded data removed]",
      "text/plain": [
       "<matplotlib.figure.Figure at 0x114c24470>"
      ]
     },
     "metadata": {},
     "output_type": "display_data"
    }
   ],
   "source": [
    "# I wonder what the average salary is per department\n",
    "plt.clf()\n",
    "depts = [''] # first tick is at zero, so make that one blank\n",
    "means = []\n",
    "stdevs = []\n",
    "for department in employee_data.dept.unique():\n",
    "    depts.append(department)\n",
    "    dept_rows = employee_data.loc[employee_data['dept']==department]\n",
    "    means.append(np.mean(dept_rows['salary']))\n",
    "    stdevs.append(np.std(dept_rows['salary']))\n",
    "    print(department, len(dept_rows), np.mean(dept_rows['salary']), \n",
    "          np.std(dept_rows['salary']))\n",
    "\n",
    "fig, ax = plt.subplots()\n",
    "bar_width = 0.35\n",
    "rects1 = ax.bar(np.arange(len(means)), means, bar_width, color='blue', yerr=stdevs)\n",
    "ax.set_xticklabels(depts)\n",
    "                  \n",
    "plt.show()"
   ]
  },
  {
   "cell_type": "code",
   "execution_count": 21,
   "metadata": {},
   "outputs": [
    {
     "name": "stdout",
     "output_type": "stream",
     "text": [
      "customer_service 9180 14.171132897603487 8.04475600327776\n",
      "marketing 3167 13.993684875276287 8.240578122059244\n",
      "data_science 3190 14.189028213166145 8.007304971801013\n",
      "engineer 4613 14.172122263169305 8.133310136660963\n",
      "sales 3172 13.97982345523329 8.084334576364496\n",
      "design 1380 14.197826086956521 8.080168668343795\n"
     ]
    },
    {
     "data": {
      "text/plain": [
       "<matplotlib.figure.Figure at 0x1148d6e10>"
      ]
     },
     "metadata": {},
     "output_type": "display_data"
    },
    {
     "data": {
      "image/png": "[encoded data removed]",
      "text/plain": [
       "<matplotlib.figure.Figure at 0x114e6af98>"
      ]
     },
     "metadata": {},
     "output_type": "display_data"
    }
   ],
   "source": [
    "# Is there a significant difference in seniority per department?\n",
    "plt.clf()\n",
    "depts = [''] # first tick is at zero, so make that one blank\n",
    "means = []\n",
    "stdevs = []\n",
    "for department in employee_data.dept.unique():\n",
    "    depts.append(department)\n",
    "    dept_rows = employee_data.loc[employee_data['dept']==department]\n",
    "    means.append(np.mean(dept_rows['seniority']))\n",
    "    stdevs.append(np.std(dept_rows['seniority']))\n",
    "    print(department, len(dept_rows), np.mean(dept_rows['seniority']), \n",
    "          np.std(dept_rows['seniority']))\n",
    "\n",
    "fig, ax = plt.subplots()\n",
    "bar_width = 0.35\n",
    "rects1 = ax.bar(np.arange(len(means)), means, bar_width, color='blue', yerr=stdevs)\n",
    "ax.set_xticklabels(depts)\n",
    "                  \n",
    "plt.show()"
   ]
  },
  {
   "cell_type": "markdown",
   "metadata": {},
   "source": [
    "## There are clearly differences in retention rate considering company and department\n",
    "\n",
    "**Given that, a model should be able to predict these differences.**<br>\n",
    "Since the goal is to determine the time until an event, a survival analysis seems like the appropriate model. In particular, a Cox Proportional Hazards model will attempt to identify the contributions of particular variables (in our case, company, department, salary, and seniority) to the \"hazard\" of leaving a company. <br><br>"
   ]
  },
  {
   "cell_type": "code",
   "execution_count": 10,
   "metadata": {},
   "outputs": [
    {
     "name": "stdout",
     "output_type": "stream",
     "text": [
      "             company_id  dept   left  emp_duration  salary_norm  \\\n",
      "employee_id                                                       \n",
      "13021.0               7     1   True         585.0    -0.646667   \n",
      "825355.0              7     2   True         340.0     0.589254   \n",
      "927315.0              4     2  False        1786.0    -0.488890   \n",
      "662910.0              7     1   True         389.0    -0.304817   \n",
      "256971.0              2     3   True        1040.0     1.812026   \n",
      "\n",
      "             seniority_norm  \n",
      "employee_id                  \n",
      "13021.0            1.714870  \n",
      "825355.0           0.725916  \n",
      "927315.0          -0.015799  \n",
      "662910.0           0.725916  \n",
      "256971.0           1.096774  \n"
     ]
    }
   ],
   "source": [
    "# The \"lifelines\" toolbox needs the data in a single dataframe\n",
    "\n",
    "employ_cox_input = employee_data.drop(['join_date', 'quit_date', 'quit', 'join'], axis=1)\n",
    "\n",
    "# Normally I would 'one hot encode' the department; however, Cox PH doesn't deal well with this\n",
    "#employ_cox_input = pd.concat([employ_cox_input, # one hot encode this\n",
    "#                              pd.get_dummies(employ_cox_input.dept)], axis=1)\n",
    "#employ_cox_input = employ_cox_input.drop(['dept'], axis=1) # no need for this column now\n",
    "\n",
    "# Cox doesn't seem to like One Hot Encoding... try just an int encoding\n",
    "employ_cox_input = employ_cox_input.replace({'dept': dept_dict})\n",
    "\n",
    "# Cox expects a duration even for the people who didn't leave; use max + 1\n",
    "employ_cox_input['emp_duration'].fillna(max_duration.days + 1, inplace=True)\n",
    "\n",
    "# We should normalize the variables, since (e.g.) salary is in a much higher range than others\n",
    "employ_cox_input['salary_norm'] = (employ_cox_input['salary'] - np.mean(employ_cox_input['salary'])) / np.std(employ_cox_input['salary'])\n",
    "employ_cox_input['seniority_norm'] = (employ_cox_input['seniority'] - np.mean(employ_cox_input['seniority'])) / np.std(employ_cox_input['seniority'])\n",
    "employ_cox_input = employ_cox_input.drop(['salary'], axis=1) # no need for this column now\n",
    "employ_cox_input = employ_cox_input.drop(['seniority'], axis=1) # no need for this column now\n",
    "\n",
    "print(employ_cox_input.iloc[0:5,:]) # just to prove that the table looks right"
   ]
  },
  {
   "cell_type": "code",
   "execution_count": 9,
   "metadata": {},
   "outputs": [
    {
     "name": "stdout",
     "output_type": "stream",
     "text": [
      "n=24702, number of events=13510\n",
      "\n",
      "                  coef  exp(coef)  se(coef)       z      p  lower 0.95  upper 0.95     \n",
      "company_id      0.0011     1.0011    0.0033  0.3354 0.7373     -0.0053      0.0075     \n",
      "dept            0.0222     1.0224    0.0060  3.6922 0.0002      0.0104      0.0340  ***\n",
      "salary_norm    -0.1121     0.8939    0.0124 -9.0197 0.0000     -0.1365     -0.0877  ***\n",
      "seniority_norm  0.0654     1.0676    0.0110  5.9663 0.0000      0.0439      0.0869  ***\n",
      "---\n",
      "Signif. codes:  0 '***' 0.001 '**' 0.01 '*' 0.05 '.' 0.1 ' ' 1 \n",
      "\n",
      "Concordance = 0.522\n"
     ]
    }
   ],
   "source": [
    "# Now, use the Cox Proportional Hazards model to fit a survival curve\n",
    "\n",
    "from lifelines import CoxPHFitter\n",
    "\n",
    "cph = CoxPHFitter()\n",
    "cph.fit(employ_cox_input, 'emp_duration', event_col='left')\n",
    "cph.print_summary()"
   ]
  },
  {
   "cell_type": "code",
   "execution_count": 12,
   "metadata": {},
   "outputs": [
    {
     "data": {
      "text/plain": [
       "<matplotlib.axes._subplots.AxesSubplot at 0x114e00978>"
      ]
     },
     "execution_count": 12,
     "metadata": {},
     "output_type": "execute_result"
    },
    {
     "data": {
      "image/png": "[encoded data removed]",
      "text/plain": [
       "<matplotlib.figure.Figure at 0x111ae0748>"
      ]
     },
     "metadata": {},
     "output_type": "display_data"
    }
   ],
   "source": [
    "# apparently Lifelines requires matplotlib to be \"inline\"\n",
    "%matplotlib inline\n",
    "\n",
    "cph.plot()"
   ]
  },
  {
   "cell_type": "code",
   "execution_count": 19,
   "metadata": {},
   "outputs": [
    {
     "name": "stdout",
     "output_type": "stream",
     "text": [
      "[0.52037980949011686, 0.5144078662558581, 0.51732785500730216, 0.53101129892292076, 0.52002510599187024]\n",
      "0.520630387134\n",
      "0.0056181664004\n"
     ]
    }
   ],
   "source": [
    "# 0.522 is not high concordance, but we should still cross-validate\n",
    "\n",
    "from lifelines.utils import k_fold_cross_validation\n",
    "\n",
    "scores = k_fold_cross_validation(cph, employ_cox_input, 'emp_duration', event_col='left', k=5)\n",
    "print(scores)\n",
    "print(np.mean(scores))\n",
    "print(np.std(scores))"
   ]
  },
  {
   "cell_type": "code",
   "execution_count": 13,
   "metadata": {},
   "outputs": [
    {
     "data": {
      "image/png": "[encoded data removed]",
      "text/plain": [
       "<matplotlib.figure.Figure at 0x114dbf780>"
      ]
     },
     "metadata": {},
     "output_type": "display_data"
    }
   ],
   "source": [
    "# Let's see if salary and seniority are correlated (I assume they should be?)\n",
    "\n",
    "plt.clf()\n",
    "plt.scatter(employ_cox_input['seniority_norm'], employ_cox_input['salary_norm'])\n",
    "plt.show()"
   ]
  },
  {
   "cell_type": "code",
   "execution_count": 17,
   "metadata": {},
   "outputs": [
    {
     "data": {
      "image/png": "[encoded data removed]",
      "text/plain": [
       "<matplotlib.figure.Figure at 0x114b39c50>"
      ]
     },
     "metadata": {},
     "output_type": "display_data"
    },
    {
     "name": "stdout",
     "output_type": "stream",
     "text": [
      "(0.56101091342583398, 0.0)\n",
      "R-squared = 0.314733244983\n"
     ]
    }
   ],
   "source": [
    "# Interesting... a couple of people are large outliers in terms of seniority; remove them\n",
    "cox_input_noOutliers = employ_cox_input[employ_cox_input.seniority_norm < 5]\n",
    "\n",
    "plt.clf()\n",
    "plt.scatter(cox_input_noOutliers['seniority_norm'], cox_input_noOutliers['salary_norm'])\n",
    "plt.show()\n",
    "\n",
    "from scipy.stats.stats import pearsonr\n",
    "corr_coeff = pearsonr(cox_input_noOutliers['seniority_norm'], cox_input_noOutliers['salary_norm'])\n",
    "print(corr_coeff)\n",
    "print('R-squared = %s' % corr_coeff[0]**2)\n"
   ]
  },
  {
   "cell_type": "code",
   "execution_count": 18,
   "metadata": {},
   "outputs": [
    {
     "name": "stdout",
     "output_type": "stream",
     "text": [
      "n=24700, number of events=13508\n",
      "\n",
      "               coef  exp(coef)  se(coef)       z      p  lower 0.95  upper 0.95     \n",
      "company_id   0.0036     1.0036    0.0032  1.1171 0.2640     -0.0027      0.0099     \n",
      "dept         0.0103     1.0104    0.0057  1.8087 0.0705     -0.0009      0.0216    .\n",
      "salary_norm -0.0649     0.9371    0.0095 -6.8686 0.0000     -0.0835     -0.0464  ***\n",
      "---\n",
      "Signif. codes:  0 '***' 0.001 '**' 0.01 '*' 0.05 '.' 0.1 ' ' 1 \n",
      "\n",
      "Concordance = 0.512\n"
     ]
    }
   ],
   "source": [
    "# Let's try removing one of these correlated variables and see how much predictive power we lose\n",
    "cox_input_noOutliers = cox_input_noOutliers.drop(['seniority_norm'], axis=1)\n",
    "\n",
    "# Using Cox Proportional Hazards model\n",
    "cph = CoxPHFitter()\n",
    "cph.fit(cox_input_noOutliers, 'emp_duration', event_col='left')\n",
    "cph.print_summary()"
   ]
  },
  {
   "cell_type": "markdown",
   "metadata": {},
   "source": [
    "## Conclusions\n",
    "\n",
    "**The Cox PH model is not very predictive.**<br>\n",
    "```The concordance of the model is 0.52 (with all variables). This means that there is a 52% chance that, for a pair of randomly chosen comparable samples, the sample with the higher risk prediction will experience an event before the other sample. Since random chance would be 50%, our model is only adding 2% to our ability to predict whether an employee will leave or not.``` <br><br>\n",
    "**The department, salary, and seniority all have very low p values (p < .001).**<br> \n",
    "```This means that even though the model does not predict well, these variables each have a significant impact on the outcome.```\n",
    "<br>```Specifically, people with high salary are less likely to leave, but those with high seniority are more likely to leave. These make sense, since those with high seniority (without commensurate salary) are likely to either retire or find higher-salary positions elsewhere.```\n",
    "<br>```Department also has a significant impact on employee turnover. Employees in sales, design, marketing, and cusomter service are significantly more likely to leave than employees in engineering or data science. This almost certainly due to the salary differences, as these two departments make significantly more than others.```\n",
    "<br><br>\n",
    "**Salary and seniority are correlated with one another (r^2 = .31).**<br> \n",
    "```This means that these two variables are likely explaining similar things within the model. Ideally we would either remove one or combine them in some way so as to have independent input variables.```<br><br>\n"
   ]
  },
  {
   "cell_type": "markdown",
   "metadata": {},
   "source": [
    "## Collecting more data\n",
    "\n",
    "**Given that this model is not very predictive, it would be good to collect more data that will help with this prediction.**<br>\n",
    "```We can imagine several variables that might be more predictive of employee churn than (e.g.) seniority. Some of these variables may be very easy to obtain; for example, age may be quite predictive, at least in the higher ranges (around retirement).``` <br><br>\n",
    "```However, if we could only obtain one more piece of data, I think the most valuable would be some sort of performance metric. This could be number of projects successfully completed, number of promotions, or something similar. Similar studies at other companies have shown that employees who perform very well or poorly tend to leave at much higher rates than those who perform merely adequately.```<br><br>"
   ]
  },
  {
   "cell_type": "code",
   "execution_count": null,
   "metadata": {
    "collapsed": true
   },
   "outputs": [],
   "source": []
  }
 ],
 "metadata": {
  "kernelspec": {
   "display_name": "Python 3",
   "language": "python",
   "name": "python3"
  },
  "language_info": {
   "codemirror_mode": {
    "name": "ipython",
    "version": 3
   },
   "file_extension": ".py",
   "mimetype": "text/x-python",
   "name": "python",
   "nbconvert_exporter": "python",
   "pygments_lexer": "ipython3",
   "version": "3.6.1"
  }
 },
 "nbformat": 4,
 "nbformat_minor": 2
}
